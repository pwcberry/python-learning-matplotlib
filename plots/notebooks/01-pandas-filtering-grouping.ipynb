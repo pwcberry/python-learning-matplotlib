{
 "metadata": {
  "language_info": {
   "codemirror_mode": {
    "name": "ipython",
    "version": 3
   },
   "file_extension": ".py",
   "mimetype": "text/x-python",
   "name": "python",
   "nbconvert_exporter": "python",
   "pygments_lexer": "ipython3",
   "version": "3.9.2"
  },
  "orig_nbformat": 2,
  "kernelspec": {
   "name": "python3",
   "display_name": "Python 3.9.2 64-bit",
   "metadata": {
    "interpreter": {
     "hash": "aee8b7b246df8f9039afb4144a1f6fd8d2ca17a180786b69acc140d282b71a49"
    }
   }
  }
 },
 "nbformat": 4,
 "nbformat_minor": 2,
 "cells": [
  {
   "source": [
    "# Pandas: Filtering and Grouping\n"
   ],
   "cell_type": "markdown",
   "metadata": {}
  },
  {
   "cell_type": "code",
   "execution_count": 1,
   "metadata": {},
   "outputs": [],
   "source": [
    "import pandas as pd\n"
   ]
  },
  {
   "cell_type": "code",
   "execution_count": 2,
   "metadata": {},
   "outputs": [],
   "source": [
    "# Load data\n",
    "\n",
    "bom = pd.read_excel('../../data/BOM_VIC_20210323.xlsx')\n",
    "\n",
    "# Remove unused column\n",
    "bom = bom.drop(['Station'], axis=1)\n",
    "\n",
    "# Remove 2021 values for consistency\n",
    "bom = bom[:-82]"
   ]
  },
  {
   "source": [
    "## Filtering"
   ],
   "cell_type": "markdown",
   "metadata": {}
  },
  {
   "cell_type": "code",
   "execution_count": 4,
   "metadata": {},
   "outputs": [
    {
     "output_type": "execute_result",
     "data": {
      "text/plain": [
       "       Year  Month  Day  Rainfall  Maximum  Minimum\n",
       "30692  1939      1   13       0.0     45.6     16.9\n",
       "56277  2009      1   30       0.0     45.1     25.7\n",
       "56285  2009      2    7       0.0     46.4     18.7"
      ],
      "text/html": "<div>\n<style scoped>\n    .dataframe tbody tr th:only-of-type {\n        vertical-align: middle;\n    }\n\n    .dataframe tbody tr th {\n        vertical-align: top;\n    }\n\n    .dataframe thead th {\n        text-align: right;\n    }\n</style>\n<table border=\"1\" class=\"dataframe\">\n  <thead>\n    <tr style=\"text-align: right;\">\n      <th></th>\n      <th>Year</th>\n      <th>Month</th>\n      <th>Day</th>\n      <th>Rainfall</th>\n      <th>Maximum</th>\n      <th>Minimum</th>\n    </tr>\n  </thead>\n  <tbody>\n    <tr>\n      <th>30692</th>\n      <td>1939</td>\n      <td>1</td>\n      <td>13</td>\n      <td>0.0</td>\n      <td>45.6</td>\n      <td>16.9</td>\n    </tr>\n    <tr>\n      <th>56277</th>\n      <td>2009</td>\n      <td>1</td>\n      <td>30</td>\n      <td>0.0</td>\n      <td>45.1</td>\n      <td>25.7</td>\n    </tr>\n    <tr>\n      <th>56285</th>\n      <td>2009</td>\n      <td>2</td>\n      <td>7</td>\n      <td>0.0</td>\n      <td>46.4</td>\n      <td>18.7</td>\n    </tr>\n  </tbody>\n</table>\n</div>"
     },
     "metadata": {},
     "execution_count": 4
    }
   ],
   "source": [
    "temp_filter = bom['Maximum'] >= 45\n",
    "\n",
    "bom[temp_filter]"
   ]
  },
  {
   "cell_type": "code",
   "execution_count": 5,
   "metadata": {},
   "outputs": [
    {
     "output_type": "execute_result",
     "data": {
      "text/plain": [
       "       Year  Month  Day  Rainfall  Maximum  Minimum\n",
       "39474  1963      1   29     108.0     21.2     16.1\n",
       "54820  2005      2    3     113.4     19.5     11.0"
      ],
      "text/html": "<div>\n<style scoped>\n    .dataframe tbody tr th:only-of-type {\n        vertical-align: middle;\n    }\n\n    .dataframe tbody tr th {\n        vertical-align: top;\n    }\n\n    .dataframe thead th {\n        text-align: right;\n    }\n</style>\n<table border=\"1\" class=\"dataframe\">\n  <thead>\n    <tr style=\"text-align: right;\">\n      <th></th>\n      <th>Year</th>\n      <th>Month</th>\n      <th>Day</th>\n      <th>Rainfall</th>\n      <th>Maximum</th>\n      <th>Minimum</th>\n    </tr>\n  </thead>\n  <tbody>\n    <tr>\n      <th>39474</th>\n      <td>1963</td>\n      <td>1</td>\n      <td>29</td>\n      <td>108.0</td>\n      <td>21.2</td>\n      <td>16.1</td>\n    </tr>\n    <tr>\n      <th>54820</th>\n      <td>2005</td>\n      <td>2</td>\n      <td>3</td>\n      <td>113.4</td>\n      <td>19.5</td>\n      <td>11.0</td>\n    </tr>\n  </tbody>\n</table>\n</div>"
     },
     "metadata": {},
     "execution_count": 5
    }
   ],
   "source": [
    "rainfall_filter = bom['Rainfall'] > 100\n",
    "bom[rainfall_filter]"
   ]
  },
  {
   "cell_type": "code",
   "execution_count": 7,
   "metadata": {},
   "outputs": [
    {
     "output_type": "execute_result",
     "data": {
      "text/plain": [
       "       Year  Month  Day  Rainfall  Maximum  Minimum\n",
       "438    1856      3   14      10.7     31.0     20.3\n",
       "1146   1858      2   20      34.5     34.7     11.7\n",
       "2577   1862      1   21      10.9     32.3     13.9\n",
       "3286   1863     12   31      19.1     30.0     16.8\n",
       "4100   1866      3   24      13.2     30.0     16.3\n",
       "5141   1869      1   28      15.5     36.7     16.7\n",
       "6185   1871     12    8      16.5     31.7     15.5\n",
       "7347   1875      2   12      19.6     34.1     15.8\n",
       "8081   1877      2   15      13.7     31.0     17.3\n",
       "12419  1889      1    1      26.4     31.1     20.0\n",
       "14985  1896      1   11      13.0     32.7     21.0\n",
       "17910  1904      1   15      18.8     31.9     16.1\n",
       "20490  1911      2    7      12.4     30.3     17.5\n",
       "27077  1929      2   19      13.5     31.3     20.3\n",
       "29999  1937      2   19      14.7     32.1     18.5\n",
       "33598  1946     12   28      38.9     30.5     17.7\n",
       "35827  1953      2    3      23.1     31.7     17.1\n",
       "36551  1955      1   28      12.7     33.3     19.3\n",
       "36902  1956      1   14      11.9     31.5     13.1\n",
       "39097  1962      1   17      21.3     31.6     18.9\n",
       "42392  1971      1   25      26.4     37.2     18.9\n",
       "42724  1971     12   23      25.9     33.7     18.7\n",
       "42775  1972      2   12      29.7     34.3     18.8\n",
       "48981  1989      2    8      33.4     33.7     18.5\n",
       "50420  1993      1   17      16.0     31.8     21.2\n",
       "50800  1994      2    1      10.2     30.6     17.7\n",
       "55180  2006      1   29      15.8     30.8     20.8\n",
       "55871  2007     12   21      14.8     30.5     18.3"
      ],
      "text/html": "<div>\n<style scoped>\n    .dataframe tbody tr th:only-of-type {\n        vertical-align: middle;\n    }\n\n    .dataframe tbody tr th {\n        vertical-align: top;\n    }\n\n    .dataframe thead th {\n        text-align: right;\n    }\n</style>\n<table border=\"1\" class=\"dataframe\">\n  <thead>\n    <tr style=\"text-align: right;\">\n      <th></th>\n      <th>Year</th>\n      <th>Month</th>\n      <th>Day</th>\n      <th>Rainfall</th>\n      <th>Maximum</th>\n      <th>Minimum</th>\n    </tr>\n  </thead>\n  <tbody>\n    <tr>\n      <th>438</th>\n      <td>1856</td>\n      <td>3</td>\n      <td>14</td>\n      <td>10.7</td>\n      <td>31.0</td>\n      <td>20.3</td>\n    </tr>\n    <tr>\n      <th>1146</th>\n      <td>1858</td>\n      <td>2</td>\n      <td>20</td>\n      <td>34.5</td>\n      <td>34.7</td>\n      <td>11.7</td>\n    </tr>\n    <tr>\n      <th>2577</th>\n      <td>1862</td>\n      <td>1</td>\n      <td>21</td>\n      <td>10.9</td>\n      <td>32.3</td>\n      <td>13.9</td>\n    </tr>\n    <tr>\n      <th>3286</th>\n      <td>1863</td>\n      <td>12</td>\n      <td>31</td>\n      <td>19.1</td>\n      <td>30.0</td>\n      <td>16.8</td>\n    </tr>\n    <tr>\n      <th>4100</th>\n      <td>1866</td>\n      <td>3</td>\n      <td>24</td>\n      <td>13.2</td>\n      <td>30.0</td>\n      <td>16.3</td>\n    </tr>\n    <tr>\n      <th>5141</th>\n      <td>1869</td>\n      <td>1</td>\n      <td>28</td>\n      <td>15.5</td>\n      <td>36.7</td>\n      <td>16.7</td>\n    </tr>\n    <tr>\n      <th>6185</th>\n      <td>1871</td>\n      <td>12</td>\n      <td>8</td>\n      <td>16.5</td>\n      <td>31.7</td>\n      <td>15.5</td>\n    </tr>\n    <tr>\n      <th>7347</th>\n      <td>1875</td>\n      <td>2</td>\n      <td>12</td>\n      <td>19.6</td>\n      <td>34.1</td>\n      <td>15.8</td>\n    </tr>\n    <tr>\n      <th>8081</th>\n      <td>1877</td>\n      <td>2</td>\n      <td>15</td>\n      <td>13.7</td>\n      <td>31.0</td>\n      <td>17.3</td>\n    </tr>\n    <tr>\n      <th>12419</th>\n      <td>1889</td>\n      <td>1</td>\n      <td>1</td>\n      <td>26.4</td>\n      <td>31.1</td>\n      <td>20.0</td>\n    </tr>\n    <tr>\n      <th>14985</th>\n      <td>1896</td>\n      <td>1</td>\n      <td>11</td>\n      <td>13.0</td>\n      <td>32.7</td>\n      <td>21.0</td>\n    </tr>\n    <tr>\n      <th>17910</th>\n      <td>1904</td>\n      <td>1</td>\n      <td>15</td>\n      <td>18.8</td>\n      <td>31.9</td>\n      <td>16.1</td>\n    </tr>\n    <tr>\n      <th>20490</th>\n      <td>1911</td>\n      <td>2</td>\n      <td>7</td>\n      <td>12.4</td>\n      <td>30.3</td>\n      <td>17.5</td>\n    </tr>\n    <tr>\n      <th>27077</th>\n      <td>1929</td>\n      <td>2</td>\n      <td>19</td>\n      <td>13.5</td>\n      <td>31.3</td>\n      <td>20.3</td>\n    </tr>\n    <tr>\n      <th>29999</th>\n      <td>1937</td>\n      <td>2</td>\n      <td>19</td>\n      <td>14.7</td>\n      <td>32.1</td>\n      <td>18.5</td>\n    </tr>\n    <tr>\n      <th>33598</th>\n      <td>1946</td>\n      <td>12</td>\n      <td>28</td>\n      <td>38.9</td>\n      <td>30.5</td>\n      <td>17.7</td>\n    </tr>\n    <tr>\n      <th>35827</th>\n      <td>1953</td>\n      <td>2</td>\n      <td>3</td>\n      <td>23.1</td>\n      <td>31.7</td>\n      <td>17.1</td>\n    </tr>\n    <tr>\n      <th>36551</th>\n      <td>1955</td>\n      <td>1</td>\n      <td>28</td>\n      <td>12.7</td>\n      <td>33.3</td>\n      <td>19.3</td>\n    </tr>\n    <tr>\n      <th>36902</th>\n      <td>1956</td>\n      <td>1</td>\n      <td>14</td>\n      <td>11.9</td>\n      <td>31.5</td>\n      <td>13.1</td>\n    </tr>\n    <tr>\n      <th>39097</th>\n      <td>1962</td>\n      <td>1</td>\n      <td>17</td>\n      <td>21.3</td>\n      <td>31.6</td>\n      <td>18.9</td>\n    </tr>\n    <tr>\n      <th>42392</th>\n      <td>1971</td>\n      <td>1</td>\n      <td>25</td>\n      <td>26.4</td>\n      <td>37.2</td>\n      <td>18.9</td>\n    </tr>\n    <tr>\n      <th>42724</th>\n      <td>1971</td>\n      <td>12</td>\n      <td>23</td>\n      <td>25.9</td>\n      <td>33.7</td>\n      <td>18.7</td>\n    </tr>\n    <tr>\n      <th>42775</th>\n      <td>1972</td>\n      <td>2</td>\n      <td>12</td>\n      <td>29.7</td>\n      <td>34.3</td>\n      <td>18.8</td>\n    </tr>\n    <tr>\n      <th>48981</th>\n      <td>1989</td>\n      <td>2</td>\n      <td>8</td>\n      <td>33.4</td>\n      <td>33.7</td>\n      <td>18.5</td>\n    </tr>\n    <tr>\n      <th>50420</th>\n      <td>1993</td>\n      <td>1</td>\n      <td>17</td>\n      <td>16.0</td>\n      <td>31.8</td>\n      <td>21.2</td>\n    </tr>\n    <tr>\n      <th>50800</th>\n      <td>1994</td>\n      <td>2</td>\n      <td>1</td>\n      <td>10.2</td>\n      <td>30.6</td>\n      <td>17.7</td>\n    </tr>\n    <tr>\n      <th>55180</th>\n      <td>2006</td>\n      <td>1</td>\n      <td>29</td>\n      <td>15.8</td>\n      <td>30.8</td>\n      <td>20.8</td>\n    </tr>\n    <tr>\n      <th>55871</th>\n      <td>2007</td>\n      <td>12</td>\n      <td>21</td>\n      <td>14.8</td>\n      <td>30.5</td>\n      <td>18.3</td>\n    </tr>\n  </tbody>\n</table>\n</div>"
     },
     "metadata": {},
     "execution_count": 7
    }
   ],
   "source": [
    "temp_filter = bom['Maximum'] >= 30\n",
    "rainfall_filter = bom['Rainfall'] >= 10\n",
    "bom[temp_filter & rainfall_filter]"
   ]
  },
  {
   "source": [
    "## Grouping"
   ],
   "cell_type": "markdown",
   "metadata": {}
  },
  {
   "cell_type": "code",
   "execution_count": 9,
   "metadata": {},
   "outputs": [
    {
     "output_type": "execute_result",
     "data": {
      "text/plain": [
       "Index(['Year', 'Month', 'Day', 'Rainfall', 'Maximum', 'Minimum'], dtype='object')"
      ]
     },
     "metadata": {},
     "execution_count": 9
    }
   ],
   "source": [
    "# Mean monthly temperature\n",
    "bom.columns"
   ]
  },
  {
   "cell_type": "code",
   "execution_count": 11,
   "metadata": {},
   "outputs": [
    {
     "output_type": "execute_result",
     "data": {
      "text/plain": [
       "            Year  Month    Maximum    Minimum\n",
       "Year Month                                   \n",
       "2019 1      2019      1  28.377419  17.477419\n",
       "     2      2019      2  26.007143  15.789286\n",
       "     3      2019      3  24.761290  15.229032\n",
       "     4      2019      4  22.046667  11.966667\n",
       "     5      2019      5  17.819355  10.619355\n",
       "     6      2019      6  15.473333   8.280000\n",
       "     7      2019      7  15.000000   8.222581\n",
       "     8      2019      8  14.474194   7.400000\n",
       "     9      2019      9  17.756667   9.083333\n",
       "     10     2019     10  21.325806  10.719355\n",
       "     11     2019     11  21.793333  11.203333\n",
       "     12     2019     12  24.554839  14.029032\n",
       "2020 1      2020      1  26.935484  15.093548\n",
       "     2      2020      2  24.406897  15.913793\n",
       "     3      2020      3  22.925806  13.929032\n",
       "     4      2020      4  19.313333  11.643333\n",
       "     5      2020      5  16.367742   8.687097\n",
       "     6      2020      6  14.850000   7.153333\n",
       "     7      2020      7  13.980645   7.061290\n",
       "     8      2020      8  15.148387   7.590323\n",
       "     9      2020      9  18.076667   9.793333\n",
       "     10     2020     10  19.148387  10.903226\n",
       "     11     2020     11  24.456667  14.033333\n",
       "     12     2020     12  22.874194  13.141935"
      ],
      "text/html": "<div>\n<style scoped>\n    .dataframe tbody tr th:only-of-type {\n        vertical-align: middle;\n    }\n\n    .dataframe tbody tr th {\n        vertical-align: top;\n    }\n\n    .dataframe thead th {\n        text-align: right;\n    }\n</style>\n<table border=\"1\" class=\"dataframe\">\n  <thead>\n    <tr style=\"text-align: right;\">\n      <th></th>\n      <th></th>\n      <th>Year</th>\n      <th>Month</th>\n      <th>Maximum</th>\n      <th>Minimum</th>\n    </tr>\n    <tr>\n      <th>Year</th>\n      <th>Month</th>\n      <th></th>\n      <th></th>\n      <th></th>\n      <th></th>\n    </tr>\n  </thead>\n  <tbody>\n    <tr>\n      <th rowspan=\"12\" valign=\"top\">2019</th>\n      <th>1</th>\n      <td>2019</td>\n      <td>1</td>\n      <td>28.377419</td>\n      <td>17.477419</td>\n    </tr>\n    <tr>\n      <th>2</th>\n      <td>2019</td>\n      <td>2</td>\n      <td>26.007143</td>\n      <td>15.789286</td>\n    </tr>\n    <tr>\n      <th>3</th>\n      <td>2019</td>\n      <td>3</td>\n      <td>24.761290</td>\n      <td>15.229032</td>\n    </tr>\n    <tr>\n      <th>4</th>\n      <td>2019</td>\n      <td>4</td>\n      <td>22.046667</td>\n      <td>11.966667</td>\n    </tr>\n    <tr>\n      <th>5</th>\n      <td>2019</td>\n      <td>5</td>\n      <td>17.819355</td>\n      <td>10.619355</td>\n    </tr>\n    <tr>\n      <th>6</th>\n      <td>2019</td>\n      <td>6</td>\n      <td>15.473333</td>\n      <td>8.280000</td>\n    </tr>\n    <tr>\n      <th>7</th>\n      <td>2019</td>\n      <td>7</td>\n      <td>15.000000</td>\n      <td>8.222581</td>\n    </tr>\n    <tr>\n      <th>8</th>\n      <td>2019</td>\n      <td>8</td>\n      <td>14.474194</td>\n      <td>7.400000</td>\n    </tr>\n    <tr>\n      <th>9</th>\n      <td>2019</td>\n      <td>9</td>\n      <td>17.756667</td>\n      <td>9.083333</td>\n    </tr>\n    <tr>\n      <th>10</th>\n      <td>2019</td>\n      <td>10</td>\n      <td>21.325806</td>\n      <td>10.719355</td>\n    </tr>\n    <tr>\n      <th>11</th>\n      <td>2019</td>\n      <td>11</td>\n      <td>21.793333</td>\n      <td>11.203333</td>\n    </tr>\n    <tr>\n      <th>12</th>\n      <td>2019</td>\n      <td>12</td>\n      <td>24.554839</td>\n      <td>14.029032</td>\n    </tr>\n    <tr>\n      <th rowspan=\"12\" valign=\"top\">2020</th>\n      <th>1</th>\n      <td>2020</td>\n      <td>1</td>\n      <td>26.935484</td>\n      <td>15.093548</td>\n    </tr>\n    <tr>\n      <th>2</th>\n      <td>2020</td>\n      <td>2</td>\n      <td>24.406897</td>\n      <td>15.913793</td>\n    </tr>\n    <tr>\n      <th>3</th>\n      <td>2020</td>\n      <td>3</td>\n      <td>22.925806</td>\n      <td>13.929032</td>\n    </tr>\n    <tr>\n      <th>4</th>\n      <td>2020</td>\n      <td>4</td>\n      <td>19.313333</td>\n      <td>11.643333</td>\n    </tr>\n    <tr>\n      <th>5</th>\n      <td>2020</td>\n      <td>5</td>\n      <td>16.367742</td>\n      <td>8.687097</td>\n    </tr>\n    <tr>\n      <th>6</th>\n      <td>2020</td>\n      <td>6</td>\n      <td>14.850000</td>\n      <td>7.153333</td>\n    </tr>\n    <tr>\n      <th>7</th>\n      <td>2020</td>\n      <td>7</td>\n      <td>13.980645</td>\n      <td>7.061290</td>\n    </tr>\n    <tr>\n      <th>8</th>\n      <td>2020</td>\n      <td>8</td>\n      <td>15.148387</td>\n      <td>7.590323</td>\n    </tr>\n    <tr>\n      <th>9</th>\n      <td>2020</td>\n      <td>9</td>\n      <td>18.076667</td>\n      <td>9.793333</td>\n    </tr>\n    <tr>\n      <th>10</th>\n      <td>2020</td>\n      <td>10</td>\n      <td>19.148387</td>\n      <td>10.903226</td>\n    </tr>\n    <tr>\n      <th>11</th>\n      <td>2020</td>\n      <td>11</td>\n      <td>24.456667</td>\n      <td>14.033333</td>\n    </tr>\n    <tr>\n      <th>12</th>\n      <td>2020</td>\n      <td>12</td>\n      <td>22.874194</td>\n      <td>13.141935</td>\n    </tr>\n  </tbody>\n</table>\n</div>"
     },
     "metadata": {},
     "execution_count": 11
    }
   ],
   "source": [
    "mean_temperature = bom[['Year', 'Month', 'Maximum', 'Minimum']].groupby([bom['Year'], bom['Month']]).mean()\n",
    "mean_temperature[-24:]"
   ]
  },
  {
   "cell_type": "code",
   "execution_count": 12,
   "metadata": {},
   "outputs": [],
   "source": [
    "# Total rainfall per month\n",
    "total_rainfall = bom[['Year', 'Month','Rainfall']].groupby([bom['Year'], bom['Month']]).sum()\n"
   ]
  },
  {
   "cell_type": "code",
   "execution_count": 14,
   "metadata": {},
   "outputs": [
    {
     "output_type": "execute_result",
     "data": {
      "text/plain": [
       "            Year  Month  Rainfall\n",
       "Year Month                       \n",
       "2019 1      2019      1      11.2\n",
       "     2      2019      2      18.6\n",
       "     3      2019      3      12.0\n",
       "     4      2019      4       7.2\n",
       "     5      2019      5      53.4\n",
       "     6      2019      6      49.8\n",
       "     7      2019      7      45.2\n",
       "     8      2019      8      51.4\n",
       "     9      2019      9      41.0\n",
       "     10     2019     10      24.0\n",
       "     11     2019     11      54.4\n",
       "     12     2019     12       6.2\n",
       "2020 1      2020      1     115.2\n",
       "     2      2020      2      76.2\n",
       "     3      2020      3      71.0\n",
       "     4      2020      4     138.4\n",
       "     5      2020      5      66.8\n",
       "     6      2020      6      29.0\n",
       "     7      2020      7      30.0\n",
       "     8      2020      8      61.6\n",
       "     9      2020      9      33.6\n",
       "     10     2020     10      74.2\n",
       "     11     2020     11      48.8\n",
       "     12     2020     12      42.0"
      ],
      "text/html": "<div>\n<style scoped>\n    .dataframe tbody tr th:only-of-type {\n        vertical-align: middle;\n    }\n\n    .dataframe tbody tr th {\n        vertical-align: top;\n    }\n\n    .dataframe thead th {\n        text-align: right;\n    }\n</style>\n<table border=\"1\" class=\"dataframe\">\n  <thead>\n    <tr style=\"text-align: right;\">\n      <th></th>\n      <th></th>\n      <th>Year</th>\n      <th>Month</th>\n      <th>Rainfall</th>\n    </tr>\n    <tr>\n      <th>Year</th>\n      <th>Month</th>\n      <th></th>\n      <th></th>\n      <th></th>\n    </tr>\n  </thead>\n  <tbody>\n    <tr>\n      <th rowspan=\"12\" valign=\"top\">2019</th>\n      <th>1</th>\n      <td>2019</td>\n      <td>1</td>\n      <td>11.2</td>\n    </tr>\n    <tr>\n      <th>2</th>\n      <td>2019</td>\n      <td>2</td>\n      <td>18.6</td>\n    </tr>\n    <tr>\n      <th>3</th>\n      <td>2019</td>\n      <td>3</td>\n      <td>12.0</td>\n    </tr>\n    <tr>\n      <th>4</th>\n      <td>2019</td>\n      <td>4</td>\n      <td>7.2</td>\n    </tr>\n    <tr>\n      <th>5</th>\n      <td>2019</td>\n      <td>5</td>\n      <td>53.4</td>\n    </tr>\n    <tr>\n      <th>6</th>\n      <td>2019</td>\n      <td>6</td>\n      <td>49.8</td>\n    </tr>\n    <tr>\n      <th>7</th>\n      <td>2019</td>\n      <td>7</td>\n      <td>45.2</td>\n    </tr>\n    <tr>\n      <th>8</th>\n      <td>2019</td>\n      <td>8</td>\n      <td>51.4</td>\n    </tr>\n    <tr>\n      <th>9</th>\n      <td>2019</td>\n      <td>9</td>\n      <td>41.0</td>\n    </tr>\n    <tr>\n      <th>10</th>\n      <td>2019</td>\n      <td>10</td>\n      <td>24.0</td>\n    </tr>\n    <tr>\n      <th>11</th>\n      <td>2019</td>\n      <td>11</td>\n      <td>54.4</td>\n    </tr>\n    <tr>\n      <th>12</th>\n      <td>2019</td>\n      <td>12</td>\n      <td>6.2</td>\n    </tr>\n    <tr>\n      <th rowspan=\"12\" valign=\"top\">2020</th>\n      <th>1</th>\n      <td>2020</td>\n      <td>1</td>\n      <td>115.2</td>\n    </tr>\n    <tr>\n      <th>2</th>\n      <td>2020</td>\n      <td>2</td>\n      <td>76.2</td>\n    </tr>\n    <tr>\n      <th>3</th>\n      <td>2020</td>\n      <td>3</td>\n      <td>71.0</td>\n    </tr>\n    <tr>\n      <th>4</th>\n      <td>2020</td>\n      <td>4</td>\n      <td>138.4</td>\n    </tr>\n    <tr>\n      <th>5</th>\n      <td>2020</td>\n      <td>5</td>\n      <td>66.8</td>\n    </tr>\n    <tr>\n      <th>6</th>\n      <td>2020</td>\n      <td>6</td>\n      <td>29.0</td>\n    </tr>\n    <tr>\n      <th>7</th>\n      <td>2020</td>\n      <td>7</td>\n      <td>30.0</td>\n    </tr>\n    <tr>\n      <th>8</th>\n      <td>2020</td>\n      <td>8</td>\n      <td>61.6</td>\n    </tr>\n    <tr>\n      <th>9</th>\n      <td>2020</td>\n      <td>9</td>\n      <td>33.6</td>\n    </tr>\n    <tr>\n      <th>10</th>\n      <td>2020</td>\n      <td>10</td>\n      <td>74.2</td>\n    </tr>\n    <tr>\n      <th>11</th>\n      <td>2020</td>\n      <td>11</td>\n      <td>48.8</td>\n    </tr>\n    <tr>\n      <th>12</th>\n      <td>2020</td>\n      <td>12</td>\n      <td>42.0</td>\n    </tr>\n  </tbody>\n</table>\n</div>"
     },
     "metadata": {},
     "execution_count": 14
    }
   ],
   "source": [
    "total_rainfall = bom[['Year', 'Month', 'Rainfall']].groupby([bom['Year'],bom['Month']]).agg({'Year':'first','Month':'first','Rainfall':'sum'})\n",
    "total_rainfall[-24:]"
   ]
  },
  {
   "cell_type": "code",
   "execution_count": null,
   "metadata": {},
   "outputs": [],
   "source": []
  },
  {
   "cell_type": "code",
   "execution_count": null,
   "metadata": {},
   "outputs": [],
   "source": [
    "# Mean monthly total rainfall\n"
   ]
  },
  {
   "cell_type": "code",
   "execution_count": null,
   "metadata": {},
   "outputs": [],
   "source": [
    "# Mean monthly temperature for last 40 years"
   ]
  },
  {
   "cell_type": "code",
   "execution_count": null,
   "metadata": {},
   "outputs": [],
   "source": [
    "# Mean monthly total rainfall for last 40 years"
   ]
  },
  {
   "cell_type": "code",
   "execution_count": null,
   "metadata": {},
   "outputs": [],
   "source": [
    "# Yearly mean temperature"
   ]
  },
  {
   "cell_type": "code",
   "execution_count": null,
   "metadata": {},
   "outputs": [],
   "source": [
    "# Yearly total rainfall"
   ]
  }
 ]
}