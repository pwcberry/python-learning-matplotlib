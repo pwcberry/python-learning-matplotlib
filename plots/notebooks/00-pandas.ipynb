{
 "metadata": {
  "language_info": {
   "codemirror_mode": {
    "name": "ipython",
    "version": 3
   },
   "file_extension": ".py",
   "mimetype": "text/x-python",
   "name": "python",
   "nbconvert_exporter": "python",
   "pygments_lexer": "ipython3",
   "version": "3.9.2"
  },
  "orig_nbformat": 2,
  "kernelspec": {
   "name": "python3",
   "display_name": "Python 3.9.2 64-bit",
   "metadata": {
    "interpreter": {
     "hash": "aee8b7b246df8f9039afb4144a1f6fd8d2ca17a180786b69acc140d282b71a49"
    }
   }
  }
 },
 "nbformat": 4,
 "nbformat_minor": 2,
 "cells": [
  {
   "source": [
    "# Pandas: the basics\n"
   ],
   "cell_type": "markdown",
   "metadata": {}
  },
  {
   "cell_type": "code",
   "execution_count": 3,
   "metadata": {},
   "outputs": [],
   "source": [
    "import pandas as pd"
   ]
  },
  {
   "source": [
    "## Dataframes"
   ],
   "cell_type": "markdown",
   "metadata": {}
  },
  {
   "cell_type": "code",
   "execution_count": 4,
   "metadata": {},
   "outputs": [],
   "source": [
    "# Load a CSV\n",
    "data = pd.read_csv('../../data/Melbourne_Annual.csv')"
   ]
  },
  {
   "cell_type": "code",
   "execution_count": 9,
   "metadata": {},
   "outputs": [
    {
     "output_type": "stream",
     "name": "stdout",
     "text": [
      "<class 'pandas.core.frame.DataFrame'>\nRangeIndex: 166 entries, 0 to 165\nData columns (total 3 columns):\n #   Column       Non-Null Count  Dtype  \n---  ------       --------------  -----  \n 0   Year         166 non-null    int64  \n 1   Rainfall     166 non-null    float64\n 2   Temperature  166 non-null    float64\ndtypes: float64(2), int64(1)\nmemory usage: 4.0 KB\n"
     ]
    },
    {
     "output_type": "execute_result",
     "data": {
      "text/plain": [
       "(166, 3)"
      ]
     },
     "metadata": {},
     "execution_count": 9
    }
   ],
   "source": [
    "# Print a concise summary\n",
    "data.info()\n",
    "\n",
    "data.shape"
   ]
  },
  {
   "cell_type": "code",
   "execution_count": null,
   "metadata": {},
   "outputs": [],
   "source": [
    "# Show the shape"
   ]
  },
  {
   "cell_type": "code",
   "execution_count": 10,
   "metadata": {},
   "outputs": [
    {
     "output_type": "execute_result",
     "data": {
      "text/plain": [
       "   Year  Rainfall  Temperature\n",
       "0  1855     541.9         17.3\n",
       "1  1856     756.1         19.0\n",
       "2  1857     734.6         19.8\n",
       "3  1858     662.5         20.2\n",
       "4  1859     556.3         19.4"
      ],
      "text/html": "<div>\n<style scoped>\n    .dataframe tbody tr th:only-of-type {\n        vertical-align: middle;\n    }\n\n    .dataframe tbody tr th {\n        vertical-align: top;\n    }\n\n    .dataframe thead th {\n        text-align: right;\n    }\n</style>\n<table border=\"1\" class=\"dataframe\">\n  <thead>\n    <tr style=\"text-align: right;\">\n      <th></th>\n      <th>Year</th>\n      <th>Rainfall</th>\n      <th>Temperature</th>\n    </tr>\n  </thead>\n  <tbody>\n    <tr>\n      <th>0</th>\n      <td>1855</td>\n      <td>541.9</td>\n      <td>17.3</td>\n    </tr>\n    <tr>\n      <th>1</th>\n      <td>1856</td>\n      <td>756.1</td>\n      <td>19.0</td>\n    </tr>\n    <tr>\n      <th>2</th>\n      <td>1857</td>\n      <td>734.6</td>\n      <td>19.8</td>\n    </tr>\n    <tr>\n      <th>3</th>\n      <td>1858</td>\n      <td>662.5</td>\n      <td>20.2</td>\n    </tr>\n    <tr>\n      <th>4</th>\n      <td>1859</td>\n      <td>556.3</td>\n      <td>19.4</td>\n    </tr>\n  </tbody>\n</table>\n</div>"
     },
     "metadata": {},
     "execution_count": 10
    }
   ],
   "source": [
    "# Show the first 5 rows\n",
    "data.head()"
   ]
  },
  {
   "cell_type": "code",
   "execution_count": 12,
   "metadata": {},
   "outputs": [
    {
     "output_type": "execute_result",
     "data": {
      "text/plain": [
       "   Year  Rainfall  Temperature\n",
       "0  1855     541.9         17.3\n",
       "1  1856     756.1         19.0\n",
       "2  1857     734.6         19.8\n",
       "3  1858     662.5         20.2\n",
       "4  1859     556.3         19.4\n",
       "5  1860     646.2         19.6\n",
       "6  1861     741.8         19.4\n",
       "7  1862     562.0         19.8\n",
       "8  1863     926.4         19.3\n",
       "9  1864     697.5         19.2"
      ],
      "text/html": "<div>\n<style scoped>\n    .dataframe tbody tr th:only-of-type {\n        vertical-align: middle;\n    }\n\n    .dataframe tbody tr th {\n        vertical-align: top;\n    }\n\n    .dataframe thead th {\n        text-align: right;\n    }\n</style>\n<table border=\"1\" class=\"dataframe\">\n  <thead>\n    <tr style=\"text-align: right;\">\n      <th></th>\n      <th>Year</th>\n      <th>Rainfall</th>\n      <th>Temperature</th>\n    </tr>\n  </thead>\n  <tbody>\n    <tr>\n      <th>0</th>\n      <td>1855</td>\n      <td>541.9</td>\n      <td>17.3</td>\n    </tr>\n    <tr>\n      <th>1</th>\n      <td>1856</td>\n      <td>756.1</td>\n      <td>19.0</td>\n    </tr>\n    <tr>\n      <th>2</th>\n      <td>1857</td>\n      <td>734.6</td>\n      <td>19.8</td>\n    </tr>\n    <tr>\n      <th>3</th>\n      <td>1858</td>\n      <td>662.5</td>\n      <td>20.2</td>\n    </tr>\n    <tr>\n      <th>4</th>\n      <td>1859</td>\n      <td>556.3</td>\n      <td>19.4</td>\n    </tr>\n    <tr>\n      <th>5</th>\n      <td>1860</td>\n      <td>646.2</td>\n      <td>19.6</td>\n    </tr>\n    <tr>\n      <th>6</th>\n      <td>1861</td>\n      <td>741.8</td>\n      <td>19.4</td>\n    </tr>\n    <tr>\n      <th>7</th>\n      <td>1862</td>\n      <td>562.0</td>\n      <td>19.8</td>\n    </tr>\n    <tr>\n      <th>8</th>\n      <td>1863</td>\n      <td>926.4</td>\n      <td>19.3</td>\n    </tr>\n    <tr>\n      <th>9</th>\n      <td>1864</td>\n      <td>697.5</td>\n      <td>19.2</td>\n    </tr>\n  </tbody>\n</table>\n</div>"
     },
     "metadata": {},
     "execution_count": 12
    }
   ],
   "source": [
    "# Show the first 10 rows\n",
    "data.head(10)"
   ]
  },
  {
   "cell_type": "code",
   "execution_count": 13,
   "metadata": {},
   "outputs": [
    {
     "output_type": "execute_result",
     "data": {
      "text/plain": [
       "     Year  Rainfall  Temperature\n",
       "156  2011     832.4         20.8\n",
       "157  2012     601.2         20.8\n",
       "158  2013     641.0         21.4\n",
       "159  2014     472.8         21.7\n",
       "160  2015     439.2         20.4\n",
       "161  2016     599.6         20.3\n",
       "162  2017     602.0         20.9\n",
       "163  2018     514.4         20.7\n",
       "164  2019     374.4         20.8\n",
       "165  2020     786.8         19.9"
      ],
      "text/html": "<div>\n<style scoped>\n    .dataframe tbody tr th:only-of-type {\n        vertical-align: middle;\n    }\n\n    .dataframe tbody tr th {\n        vertical-align: top;\n    }\n\n    .dataframe thead th {\n        text-align: right;\n    }\n</style>\n<table border=\"1\" class=\"dataframe\">\n  <thead>\n    <tr style=\"text-align: right;\">\n      <th></th>\n      <th>Year</th>\n      <th>Rainfall</th>\n      <th>Temperature</th>\n    </tr>\n  </thead>\n  <tbody>\n    <tr>\n      <th>156</th>\n      <td>2011</td>\n      <td>832.4</td>\n      <td>20.8</td>\n    </tr>\n    <tr>\n      <th>157</th>\n      <td>2012</td>\n      <td>601.2</td>\n      <td>20.8</td>\n    </tr>\n    <tr>\n      <th>158</th>\n      <td>2013</td>\n      <td>641.0</td>\n      <td>21.4</td>\n    </tr>\n    <tr>\n      <th>159</th>\n      <td>2014</td>\n      <td>472.8</td>\n      <td>21.7</td>\n    </tr>\n    <tr>\n      <th>160</th>\n      <td>2015</td>\n      <td>439.2</td>\n      <td>20.4</td>\n    </tr>\n    <tr>\n      <th>161</th>\n      <td>2016</td>\n      <td>599.6</td>\n      <td>20.3</td>\n    </tr>\n    <tr>\n      <th>162</th>\n      <td>2017</td>\n      <td>602.0</td>\n      <td>20.9</td>\n    </tr>\n    <tr>\n      <th>163</th>\n      <td>2018</td>\n      <td>514.4</td>\n      <td>20.7</td>\n    </tr>\n    <tr>\n      <th>164</th>\n      <td>2019</td>\n      <td>374.4</td>\n      <td>20.8</td>\n    </tr>\n    <tr>\n      <th>165</th>\n      <td>2020</td>\n      <td>786.8</td>\n      <td>19.9</td>\n    </tr>\n  </tbody>\n</table>\n</div>"
     },
     "metadata": {},
     "execution_count": 13
    }
   ],
   "source": [
    "# Show the last 10 rows\n",
    "data.tail(10)"
   ]
  },
  {
   "cell_type": "code",
   "execution_count": 14,
   "metadata": {},
   "outputs": [
    {
     "output_type": "execute_result",
     "data": {
      "text/plain": [
       "       Station   Year  Month    Day  Rainfall  Maximum  Minimum\n",
       "0        False  False  False  False      True     True     True\n",
       "1        False  False  False  False      True     True     True\n",
       "2        False  False  False  False      True     True     True\n",
       "3        False  False  False  False      True     True     True\n",
       "4        False  False  False  False      True     True     True\n",
       "...        ...    ...    ...    ...       ...      ...      ...\n",
       "60708    False  False  False  False     False    False    False\n",
       "60709    False  False  False  False     False    False    False\n",
       "60710    False  False  False  False     False    False    False\n",
       "60711    False  False  False  False     False    False    False\n",
       "60712    False  False  False  False     False    False    False\n",
       "\n",
       "[60713 rows x 7 columns]"
      ],
      "text/html": "<div>\n<style scoped>\n    .dataframe tbody tr th:only-of-type {\n        vertical-align: middle;\n    }\n\n    .dataframe tbody tr th {\n        vertical-align: top;\n    }\n\n    .dataframe thead th {\n        text-align: right;\n    }\n</style>\n<table border=\"1\" class=\"dataframe\">\n  <thead>\n    <tr style=\"text-align: right;\">\n      <th></th>\n      <th>Station</th>\n      <th>Year</th>\n      <th>Month</th>\n      <th>Day</th>\n      <th>Rainfall</th>\n      <th>Maximum</th>\n      <th>Minimum</th>\n    </tr>\n  </thead>\n  <tbody>\n    <tr>\n      <th>0</th>\n      <td>False</td>\n      <td>False</td>\n      <td>False</td>\n      <td>False</td>\n      <td>True</td>\n      <td>True</td>\n      <td>True</td>\n    </tr>\n    <tr>\n      <th>1</th>\n      <td>False</td>\n      <td>False</td>\n      <td>False</td>\n      <td>False</td>\n      <td>True</td>\n      <td>True</td>\n      <td>True</td>\n    </tr>\n    <tr>\n      <th>2</th>\n      <td>False</td>\n      <td>False</td>\n      <td>False</td>\n      <td>False</td>\n      <td>True</td>\n      <td>True</td>\n      <td>True</td>\n    </tr>\n    <tr>\n      <th>3</th>\n      <td>False</td>\n      <td>False</td>\n      <td>False</td>\n      <td>False</td>\n      <td>True</td>\n      <td>True</td>\n      <td>True</td>\n    </tr>\n    <tr>\n      <th>4</th>\n      <td>False</td>\n      <td>False</td>\n      <td>False</td>\n      <td>False</td>\n      <td>True</td>\n      <td>True</td>\n      <td>True</td>\n    </tr>\n    <tr>\n      <th>...</th>\n      <td>...</td>\n      <td>...</td>\n      <td>...</td>\n      <td>...</td>\n      <td>...</td>\n      <td>...</td>\n      <td>...</td>\n    </tr>\n    <tr>\n      <th>60708</th>\n      <td>False</td>\n      <td>False</td>\n      <td>False</td>\n      <td>False</td>\n      <td>False</td>\n      <td>False</td>\n      <td>False</td>\n    </tr>\n    <tr>\n      <th>60709</th>\n      <td>False</td>\n      <td>False</td>\n      <td>False</td>\n      <td>False</td>\n      <td>False</td>\n      <td>False</td>\n      <td>False</td>\n    </tr>\n    <tr>\n      <th>60710</th>\n      <td>False</td>\n      <td>False</td>\n      <td>False</td>\n      <td>False</td>\n      <td>False</td>\n      <td>False</td>\n      <td>False</td>\n    </tr>\n    <tr>\n      <th>60711</th>\n      <td>False</td>\n      <td>False</td>\n      <td>False</td>\n      <td>False</td>\n      <td>False</td>\n      <td>False</td>\n      <td>False</td>\n    </tr>\n    <tr>\n      <th>60712</th>\n      <td>False</td>\n      <td>False</td>\n      <td>False</td>\n      <td>False</td>\n      <td>False</td>\n      <td>False</td>\n      <td>False</td>\n    </tr>\n  </tbody>\n</table>\n<p>60713 rows × 7 columns</p>\n</div>"
     },
     "metadata": {},
     "execution_count": 14
    }
   ],
   "source": [
    "# Show missing values\n",
    "bom = pd.read_excel('../../data/BOM_VIC_20210323.xlsx', sheet_name='Melbourne')\n",
    "\n",
    "bom.isna()"
   ]
  },
  {
   "cell_type": "code",
   "execution_count": 17,
   "metadata": {},
   "outputs": [
    {
     "output_type": "execute_result",
     "data": {
      "text/plain": [
       "     Year  Rainfall  Temperature\n",
       "146  2001     605.2         20.5\n",
       "147  2002     396.6         20.9\n",
       "148  2003     493.0         20.7\n",
       "149  2004     622.2         20.4\n",
       "150  2005     590.0         21.4\n",
       "151  2006     438.4         20.8\n",
       "152  2007     448.4         21.8\n",
       "153  2008     449.4         20.9\n",
       "154  2009     464.8         21.6\n",
       "155  2010     780.6         21.0"
      ],
      "text/html": "<div>\n<style scoped>\n    .dataframe tbody tr th:only-of-type {\n        vertical-align: middle;\n    }\n\n    .dataframe tbody tr th {\n        vertical-align: top;\n    }\n\n    .dataframe thead th {\n        text-align: right;\n    }\n</style>\n<table border=\"1\" class=\"dataframe\">\n  <thead>\n    <tr style=\"text-align: right;\">\n      <th></th>\n      <th>Year</th>\n      <th>Rainfall</th>\n      <th>Temperature</th>\n    </tr>\n  </thead>\n  <tbody>\n    <tr>\n      <th>146</th>\n      <td>2001</td>\n      <td>605.2</td>\n      <td>20.5</td>\n    </tr>\n    <tr>\n      <th>147</th>\n      <td>2002</td>\n      <td>396.6</td>\n      <td>20.9</td>\n    </tr>\n    <tr>\n      <th>148</th>\n      <td>2003</td>\n      <td>493.0</td>\n      <td>20.7</td>\n    </tr>\n    <tr>\n      <th>149</th>\n      <td>2004</td>\n      <td>622.2</td>\n      <td>20.4</td>\n    </tr>\n    <tr>\n      <th>150</th>\n      <td>2005</td>\n      <td>590.0</td>\n      <td>21.4</td>\n    </tr>\n    <tr>\n      <th>151</th>\n      <td>2006</td>\n      <td>438.4</td>\n      <td>20.8</td>\n    </tr>\n    <tr>\n      <th>152</th>\n      <td>2007</td>\n      <td>448.4</td>\n      <td>21.8</td>\n    </tr>\n    <tr>\n      <th>153</th>\n      <td>2008</td>\n      <td>449.4</td>\n      <td>20.9</td>\n    </tr>\n    <tr>\n      <th>154</th>\n      <td>2009</td>\n      <td>464.8</td>\n      <td>21.6</td>\n    </tr>\n    <tr>\n      <th>155</th>\n      <td>2010</td>\n      <td>780.6</td>\n      <td>21.0</td>\n    </tr>\n  </tbody>\n</table>\n</div>"
     },
     "metadata": {},
     "execution_count": 17
    }
   ],
   "source": [
    "# Show a range of values\n",
    "data[-20:-10]"
   ]
  },
  {
   "source": [
    "## Series"
   ],
   "cell_type": "markdown",
   "metadata": {}
  },
  {
   "cell_type": "code",
   "execution_count": 18,
   "metadata": {},
   "outputs": [],
   "source": [
    "rainfall = bom['Rainfall']\n"
   ]
  },
  {
   "cell_type": "code",
   "execution_count": 19,
   "metadata": {},
   "outputs": [
    {
     "output_type": "execute_result",
     "data": {
      "text/plain": [
       "60631     0.0\n",
       "60632     0.0\n",
       "60633    12.6\n",
       "60634     2.6\n",
       "60635    11.2\n",
       "         ... \n",
       "60708     0.0\n",
       "60709     0.0\n",
       "60710     1.2\n",
       "60711     5.6\n",
       "60712    13.8\n",
       "Name: Rainfall, Length: 82, dtype: float64"
      ]
     },
     "metadata": {},
     "execution_count": 19
    }
   ],
   "source": [
    "rainfall[-82:]"
   ]
  },
  {
   "cell_type": "code",
   "execution_count": 22,
   "metadata": {},
   "outputs": [
    {
     "output_type": "execute_result",
     "data": {
      "text/plain": [
       "0         0.0\n",
       "1         0.0\n",
       "2         0.0\n",
       "3         0.0\n",
       "4         0.0\n",
       "         ... \n",
       "60708     0.0\n",
       "60709     0.0\n",
       "60710     1.2\n",
       "60711     5.6\n",
       "60712    13.8\n",
       "Name: Rainfall, Length: 60713, dtype: float64"
      ]
     },
     "metadata": {},
     "execution_count": 22
    }
   ],
   "source": [
    "# Fill missing values (returns a new Series)\n",
    "rainfall.fillna(0.0)"
   ]
  },
  {
   "cell_type": "code",
   "execution_count": 28,
   "metadata": {},
   "outputs": [
    {
     "output_type": "execute_result",
     "data": {
      "text/plain": [
       "Year        2021.0\n",
       "Month         12.0\n",
       "Rainfall     113.4\n",
       "dtype: float64"
      ]
     },
     "metadata": {},
     "execution_count": 28
    }
   ],
   "source": [
    "# Show some stats\n",
    "\n",
    "bom[['Year', 'Month', 'Rainfall']].max()"
   ]
  },
  {
   "cell_type": "code",
   "execution_count": null,
   "metadata": {},
   "outputs": [],
   "source": []
  }
 ]
}