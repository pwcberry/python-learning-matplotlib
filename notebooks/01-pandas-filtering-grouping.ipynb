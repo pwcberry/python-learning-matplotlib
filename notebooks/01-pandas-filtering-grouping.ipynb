{
 "metadata": {
  "language_info": {
   "codemirror_mode": {
    "name": "ipython",
    "version": 3
   },
   "file_extension": ".py",
   "mimetype": "text/x-python",
   "name": "python",
   "nbconvert_exporter": "python",
   "pygments_lexer": "ipython3",
   "version": "3.9.2"
  },
  "orig_nbformat": 2,
  "kernelspec": {
   "name": "python392jvsc74a57bd0aee8b7b246df8f9039afb4144a1f6fd8d2ca17a180786b69acc140d282b71a49",
   "display_name": "Python 3.9.2 64-bit"
  },
  "metadata": {
   "interpreter": {
    "hash": "aee8b7b246df8f9039afb4144a1f6fd8d2ca17a180786b69acc140d282b71a49"
   }
  }
 },
 "nbformat": 4,
 "nbformat_minor": 2,
 "cells": [
  {
   "source": [
    "# pandas: Filtering, grouping and sorting\n",
    "\n",
    "Let's play around with features that can filter series, group data for aggregate functions and sort data. \n",
    "\n",
    "Through the following examples I was able to build the file `Melbourne_Annual.csv` from the data in the workbook `BOM_VIC_20210323.xlsx`.\n"
   ],
   "cell_type": "markdown",
   "metadata": {}
  },
  {
   "cell_type": "code",
   "execution_count": 26,
   "metadata": {},
   "outputs": [],
   "source": [
    "import pandas as pd\n",
    "import math\n",
    "import datetime as dt"
   ]
  },
  {
   "cell_type": "code",
   "execution_count": 4,
   "metadata": {},
   "outputs": [],
   "source": [
    "# Load data and prepare for use\n",
    "\n",
    "bom = pd.read_excel('../data/BOM_VIC_20210323.xlsx')\n",
    "bom = bom.drop(['Station'], axis=1)\n",
    "bom = bom[:-82]"
   ]
  },
  {
   "source": [
    "## Filtering\n",
    "\n",
    "To create a filter in a `DataFrame`, you specify a \"Boolean index\" by creating an expression based on a `DataFrame`'s series.\n",
    "\n",
    "This Boolean index is in reality a series of `True` and `False` that matches the expression and the index in the `DataFrame`.\n",
    "\n",
    "You can create an expression using the typical equality operators `==`, `!=`, `<`, `>`, `<=`, `>=`. \n",
    "\n",
    "These expressions can be combined into more complex Boolean expressions by using AND `&`, OR `|` and NOT `~`."
   ],
   "cell_type": "markdown",
   "metadata": {}
  },
  {
   "cell_type": "code",
   "execution_count": 5,
   "metadata": {},
   "outputs": [
    {
     "output_type": "execute_result",
     "data": {
      "text/plain": [
       "       Year  Month  Day  Rainfall  Maximum  Minimum\n",
       "30692  1939      1   13       0.0     45.6     16.9\n",
       "56277  2009      1   30       0.0     45.1     25.7\n",
       "56285  2009      2    7       0.0     46.4     18.7"
      ],
      "text/html": "<div>\n<style scoped>\n    .dataframe tbody tr th:only-of-type {\n        vertical-align: middle;\n    }\n\n    .dataframe tbody tr th {\n        vertical-align: top;\n    }\n\n    .dataframe thead th {\n        text-align: right;\n    }\n</style>\n<table border=\"1\" class=\"dataframe\">\n  <thead>\n    <tr style=\"text-align: right;\">\n      <th></th>\n      <th>Year</th>\n      <th>Month</th>\n      <th>Day</th>\n      <th>Rainfall</th>\n      <th>Maximum</th>\n      <th>Minimum</th>\n    </tr>\n  </thead>\n  <tbody>\n    <tr>\n      <th>30692</th>\n      <td>1939</td>\n      <td>1</td>\n      <td>13</td>\n      <td>0.0</td>\n      <td>45.6</td>\n      <td>16.9</td>\n    </tr>\n    <tr>\n      <th>56277</th>\n      <td>2009</td>\n      <td>1</td>\n      <td>30</td>\n      <td>0.0</td>\n      <td>45.1</td>\n      <td>25.7</td>\n    </tr>\n    <tr>\n      <th>56285</th>\n      <td>2009</td>\n      <td>2</td>\n      <td>7</td>\n      <td>0.0</td>\n      <td>46.4</td>\n      <td>18.7</td>\n    </tr>\n  </tbody>\n</table>\n</div>"
     },
     "metadata": {},
     "execution_count": 5
    }
   ],
   "source": [
    "# Find all dates when the temperature was greater than 45 Celsius\n",
    "temp_filter = bom['Maximum'] >= 45\n",
    "bom[temp_filter]"
   ]
  },
  {
   "cell_type": "code",
   "execution_count": 6,
   "metadata": {},
   "outputs": [
    {
     "output_type": "execute_result",
     "data": {
      "text/plain": [
       "       Year  Month  Day  Rainfall  Maximum  Minimum\n",
       "39474  1963      1   29     108.0     21.2     16.1\n",
       "54820  2005      2    3     113.4     19.5     11.0"
      ],
      "text/html": "<div>\n<style scoped>\n    .dataframe tbody tr th:only-of-type {\n        vertical-align: middle;\n    }\n\n    .dataframe tbody tr th {\n        vertical-align: top;\n    }\n\n    .dataframe thead th {\n        text-align: right;\n    }\n</style>\n<table border=\"1\" class=\"dataframe\">\n  <thead>\n    <tr style=\"text-align: right;\">\n      <th></th>\n      <th>Year</th>\n      <th>Month</th>\n      <th>Day</th>\n      <th>Rainfall</th>\n      <th>Maximum</th>\n      <th>Minimum</th>\n    </tr>\n  </thead>\n  <tbody>\n    <tr>\n      <th>39474</th>\n      <td>1963</td>\n      <td>1</td>\n      <td>29</td>\n      <td>108.0</td>\n      <td>21.2</td>\n      <td>16.1</td>\n    </tr>\n    <tr>\n      <th>54820</th>\n      <td>2005</td>\n      <td>2</td>\n      <td>3</td>\n      <td>113.4</td>\n      <td>19.5</td>\n      <td>11.0</td>\n    </tr>\n  </tbody>\n</table>\n</div>"
     },
     "metadata": {},
     "execution_count": 6
    }
   ],
   "source": [
    "# Find all dates when there was more than 100mm of rain\n",
    "rainfall_filter = bom['Rainfall'] > 100\n",
    "bom[rainfall_filter]"
   ]
  },
  {
   "cell_type": "code",
   "execution_count": 7,
   "metadata": {},
   "outputs": [
    {
     "output_type": "execute_result",
     "data": {
      "text/plain": [
       "       Year  Month  Day  Rainfall  Maximum  Minimum\n",
       "438    1856      3   14      10.7     31.0     20.3\n",
       "1146   1858      2   20      34.5     34.7     11.7\n",
       "2577   1862      1   21      10.9     32.3     13.9\n",
       "3286   1863     12   31      19.1     30.0     16.8\n",
       "4100   1866      3   24      13.2     30.0     16.3\n",
       "5141   1869      1   28      15.5     36.7     16.7\n",
       "6185   1871     12    8      16.5     31.7     15.5\n",
       "7347   1875      2   12      19.6     34.1     15.8\n",
       "8081   1877      2   15      13.7     31.0     17.3\n",
       "12419  1889      1    1      26.4     31.1     20.0\n",
       "14985  1896      1   11      13.0     32.7     21.0\n",
       "17910  1904      1   15      18.8     31.9     16.1\n",
       "20490  1911      2    7      12.4     30.3     17.5\n",
       "27077  1929      2   19      13.5     31.3     20.3\n",
       "29999  1937      2   19      14.7     32.1     18.5\n",
       "33598  1946     12   28      38.9     30.5     17.7\n",
       "35827  1953      2    3      23.1     31.7     17.1\n",
       "36551  1955      1   28      12.7     33.3     19.3\n",
       "36902  1956      1   14      11.9     31.5     13.1\n",
       "39097  1962      1   17      21.3     31.6     18.9\n",
       "42392  1971      1   25      26.4     37.2     18.9\n",
       "42724  1971     12   23      25.9     33.7     18.7\n",
       "42775  1972      2   12      29.7     34.3     18.8\n",
       "48981  1989      2    8      33.4     33.7     18.5\n",
       "50420  1993      1   17      16.0     31.8     21.2\n",
       "50800  1994      2    1      10.2     30.6     17.7\n",
       "55180  2006      1   29      15.8     30.8     20.8\n",
       "55871  2007     12   21      14.8     30.5     18.3"
      ],
      "text/html": "<div>\n<style scoped>\n    .dataframe tbody tr th:only-of-type {\n        vertical-align: middle;\n    }\n\n    .dataframe tbody tr th {\n        vertical-align: top;\n    }\n\n    .dataframe thead th {\n        text-align: right;\n    }\n</style>\n<table border=\"1\" class=\"dataframe\">\n  <thead>\n    <tr style=\"text-align: right;\">\n      <th></th>\n      <th>Year</th>\n      <th>Month</th>\n      <th>Day</th>\n      <th>Rainfall</th>\n      <th>Maximum</th>\n      <th>Minimum</th>\n    </tr>\n  </thead>\n  <tbody>\n    <tr>\n      <th>438</th>\n      <td>1856</td>\n      <td>3</td>\n      <td>14</td>\n      <td>10.7</td>\n      <td>31.0</td>\n      <td>20.3</td>\n    </tr>\n    <tr>\n      <th>1146</th>\n      <td>1858</td>\n      <td>2</td>\n      <td>20</td>\n      <td>34.5</td>\n      <td>34.7</td>\n      <td>11.7</td>\n    </tr>\n    <tr>\n      <th>2577</th>\n      <td>1862</td>\n      <td>1</td>\n      <td>21</td>\n      <td>10.9</td>\n      <td>32.3</td>\n      <td>13.9</td>\n    </tr>\n    <tr>\n      <th>3286</th>\n      <td>1863</td>\n      <td>12</td>\n      <td>31</td>\n      <td>19.1</td>\n      <td>30.0</td>\n      <td>16.8</td>\n    </tr>\n    <tr>\n      <th>4100</th>\n      <td>1866</td>\n      <td>3</td>\n      <td>24</td>\n      <td>13.2</td>\n      <td>30.0</td>\n      <td>16.3</td>\n    </tr>\n    <tr>\n      <th>5141</th>\n      <td>1869</td>\n      <td>1</td>\n      <td>28</td>\n      <td>15.5</td>\n      <td>36.7</td>\n      <td>16.7</td>\n    </tr>\n    <tr>\n      <th>6185</th>\n      <td>1871</td>\n      <td>12</td>\n      <td>8</td>\n      <td>16.5</td>\n      <td>31.7</td>\n      <td>15.5</td>\n    </tr>\n    <tr>\n      <th>7347</th>\n      <td>1875</td>\n      <td>2</td>\n      <td>12</td>\n      <td>19.6</td>\n      <td>34.1</td>\n      <td>15.8</td>\n    </tr>\n    <tr>\n      <th>8081</th>\n      <td>1877</td>\n      <td>2</td>\n      <td>15</td>\n      <td>13.7</td>\n      <td>31.0</td>\n      <td>17.3</td>\n    </tr>\n    <tr>\n      <th>12419</th>\n      <td>1889</td>\n      <td>1</td>\n      <td>1</td>\n      <td>26.4</td>\n      <td>31.1</td>\n      <td>20.0</td>\n    </tr>\n    <tr>\n      <th>14985</th>\n      <td>1896</td>\n      <td>1</td>\n      <td>11</td>\n      <td>13.0</td>\n      <td>32.7</td>\n      <td>21.0</td>\n    </tr>\n    <tr>\n      <th>17910</th>\n      <td>1904</td>\n      <td>1</td>\n      <td>15</td>\n      <td>18.8</td>\n      <td>31.9</td>\n      <td>16.1</td>\n    </tr>\n    <tr>\n      <th>20490</th>\n      <td>1911</td>\n      <td>2</td>\n      <td>7</td>\n      <td>12.4</td>\n      <td>30.3</td>\n      <td>17.5</td>\n    </tr>\n    <tr>\n      <th>27077</th>\n      <td>1929</td>\n      <td>2</td>\n      <td>19</td>\n      <td>13.5</td>\n      <td>31.3</td>\n      <td>20.3</td>\n    </tr>\n    <tr>\n      <th>29999</th>\n      <td>1937</td>\n      <td>2</td>\n      <td>19</td>\n      <td>14.7</td>\n      <td>32.1</td>\n      <td>18.5</td>\n    </tr>\n    <tr>\n      <th>33598</th>\n      <td>1946</td>\n      <td>12</td>\n      <td>28</td>\n      <td>38.9</td>\n      <td>30.5</td>\n      <td>17.7</td>\n    </tr>\n    <tr>\n      <th>35827</th>\n      <td>1953</td>\n      <td>2</td>\n      <td>3</td>\n      <td>23.1</td>\n      <td>31.7</td>\n      <td>17.1</td>\n    </tr>\n    <tr>\n      <th>36551</th>\n      <td>1955</td>\n      <td>1</td>\n      <td>28</td>\n      <td>12.7</td>\n      <td>33.3</td>\n      <td>19.3</td>\n    </tr>\n    <tr>\n      <th>36902</th>\n      <td>1956</td>\n      <td>1</td>\n      <td>14</td>\n      <td>11.9</td>\n      <td>31.5</td>\n      <td>13.1</td>\n    </tr>\n    <tr>\n      <th>39097</th>\n      <td>1962</td>\n      <td>1</td>\n      <td>17</td>\n      <td>21.3</td>\n      <td>31.6</td>\n      <td>18.9</td>\n    </tr>\n    <tr>\n      <th>42392</th>\n      <td>1971</td>\n      <td>1</td>\n      <td>25</td>\n      <td>26.4</td>\n      <td>37.2</td>\n      <td>18.9</td>\n    </tr>\n    <tr>\n      <th>42724</th>\n      <td>1971</td>\n      <td>12</td>\n      <td>23</td>\n      <td>25.9</td>\n      <td>33.7</td>\n      <td>18.7</td>\n    </tr>\n    <tr>\n      <th>42775</th>\n      <td>1972</td>\n      <td>2</td>\n      <td>12</td>\n      <td>29.7</td>\n      <td>34.3</td>\n      <td>18.8</td>\n    </tr>\n    <tr>\n      <th>48981</th>\n      <td>1989</td>\n      <td>2</td>\n      <td>8</td>\n      <td>33.4</td>\n      <td>33.7</td>\n      <td>18.5</td>\n    </tr>\n    <tr>\n      <th>50420</th>\n      <td>1993</td>\n      <td>1</td>\n      <td>17</td>\n      <td>16.0</td>\n      <td>31.8</td>\n      <td>21.2</td>\n    </tr>\n    <tr>\n      <th>50800</th>\n      <td>1994</td>\n      <td>2</td>\n      <td>1</td>\n      <td>10.2</td>\n      <td>30.6</td>\n      <td>17.7</td>\n    </tr>\n    <tr>\n      <th>55180</th>\n      <td>2006</td>\n      <td>1</td>\n      <td>29</td>\n      <td>15.8</td>\n      <td>30.8</td>\n      <td>20.8</td>\n    </tr>\n    <tr>\n      <th>55871</th>\n      <td>2007</td>\n      <td>12</td>\n      <td>21</td>\n      <td>14.8</td>\n      <td>30.5</td>\n      <td>18.3</td>\n    </tr>\n  </tbody>\n</table>\n</div>"
     },
     "metadata": {},
     "execution_count": 7
    }
   ],
   "source": [
    "# Find all dates when more than 10mm of rain fell and the maximum temperature was above 30 Celsius\n",
    "temp_filter = bom['Maximum'] >= 30\n",
    "rainfall_filter = bom['Rainfall'] >= 10\n",
    "bom[temp_filter & rainfall_filter]"
   ]
  },
  {
   "cell_type": "code",
   "execution_count": 8,
   "metadata": {},
   "outputs": [
    {
     "output_type": "execute_result",
     "data": {
      "text/plain": [
       "       Year  Month  Day  Rainfall  Maximum  Minimum\n",
       "114    1855      4   25      20.6      NaN      NaN\n",
       "117    1855      4   28      15.2      NaN      NaN\n",
       "118    1855      4   29      14.2      NaN      NaN\n",
       "147    1855      5   28      12.2     12.7      7.2\n",
       "162    1855      6   12      11.7      8.9      1.7\n",
       "...     ...    ...  ...       ...      ...      ...\n",
       "60612  2020     12   13       0.0     30.2     16.0\n",
       "60613  2020     12   14       0.0     33.7     17.7\n",
       "60614  2020     12   15       0.0     33.5     20.4\n",
       "60621  2020     12   22      13.2     20.4     13.8\n",
       "60626  2020     12   27       0.0     31.9     16.2\n",
       "\n",
       "[7792 rows x 6 columns]"
      ],
      "text/html": "<div>\n<style scoped>\n    .dataframe tbody tr th:only-of-type {\n        vertical-align: middle;\n    }\n\n    .dataframe tbody tr th {\n        vertical-align: top;\n    }\n\n    .dataframe thead th {\n        text-align: right;\n    }\n</style>\n<table border=\"1\" class=\"dataframe\">\n  <thead>\n    <tr style=\"text-align: right;\">\n      <th></th>\n      <th>Year</th>\n      <th>Month</th>\n      <th>Day</th>\n      <th>Rainfall</th>\n      <th>Maximum</th>\n      <th>Minimum</th>\n    </tr>\n  </thead>\n  <tbody>\n    <tr>\n      <th>114</th>\n      <td>1855</td>\n      <td>4</td>\n      <td>25</td>\n      <td>20.6</td>\n      <td>NaN</td>\n      <td>NaN</td>\n    </tr>\n    <tr>\n      <th>117</th>\n      <td>1855</td>\n      <td>4</td>\n      <td>28</td>\n      <td>15.2</td>\n      <td>NaN</td>\n      <td>NaN</td>\n    </tr>\n    <tr>\n      <th>118</th>\n      <td>1855</td>\n      <td>4</td>\n      <td>29</td>\n      <td>14.2</td>\n      <td>NaN</td>\n      <td>NaN</td>\n    </tr>\n    <tr>\n      <th>147</th>\n      <td>1855</td>\n      <td>5</td>\n      <td>28</td>\n      <td>12.2</td>\n      <td>12.7</td>\n      <td>7.2</td>\n    </tr>\n    <tr>\n      <th>162</th>\n      <td>1855</td>\n      <td>6</td>\n      <td>12</td>\n      <td>11.7</td>\n      <td>8.9</td>\n      <td>1.7</td>\n    </tr>\n    <tr>\n      <th>...</th>\n      <td>...</td>\n      <td>...</td>\n      <td>...</td>\n      <td>...</td>\n      <td>...</td>\n      <td>...</td>\n    </tr>\n    <tr>\n      <th>60612</th>\n      <td>2020</td>\n      <td>12</td>\n      <td>13</td>\n      <td>0.0</td>\n      <td>30.2</td>\n      <td>16.0</td>\n    </tr>\n    <tr>\n      <th>60613</th>\n      <td>2020</td>\n      <td>12</td>\n      <td>14</td>\n      <td>0.0</td>\n      <td>33.7</td>\n      <td>17.7</td>\n    </tr>\n    <tr>\n      <th>60614</th>\n      <td>2020</td>\n      <td>12</td>\n      <td>15</td>\n      <td>0.0</td>\n      <td>33.5</td>\n      <td>20.4</td>\n    </tr>\n    <tr>\n      <th>60621</th>\n      <td>2020</td>\n      <td>12</td>\n      <td>22</td>\n      <td>13.2</td>\n      <td>20.4</td>\n      <td>13.8</td>\n    </tr>\n    <tr>\n      <th>60626</th>\n      <td>2020</td>\n      <td>12</td>\n      <td>27</td>\n      <td>0.0</td>\n      <td>31.9</td>\n      <td>16.2</td>\n    </tr>\n  </tbody>\n</table>\n<p>7792 rows × 6 columns</p>\n</div>"
     },
     "metadata": {},
     "execution_count": 8
    }
   ],
   "source": [
    "# Find all dates when more than 10mm of rain fell or the maximum temperature was above 30 Celsius\n",
    "bom[temp_filter | rainfall_filter]"
   ]
  },
  {
   "cell_type": "code",
   "execution_count": 9,
   "metadata": {},
   "outputs": [
    {
     "output_type": "execute_result",
     "data": {
      "text/plain": [
       "60626     True\n",
       "60627    False\n",
       "60628    False\n",
       "60629    False\n",
       "60630    False\n",
       "Name: Maximum, dtype: bool"
      ]
     },
     "metadata": {},
     "execution_count": 9
    }
   ],
   "source": [
    "# What a Boolean index looks like\n",
    "temp_filter.tail()"
   ]
  },
  {
   "cell_type": "code",
   "execution_count": 10,
   "metadata": {},
   "outputs": [
    {
     "output_type": "stream",
     "name": "stderr",
     "text": [
      "<ipython-input-10-ff0888617a66>:2: UserWarning: Boolean Series key will be reindexed to match DataFrame index.\n  bom.iloc[-366:][temp_filter][['Month','Day', 'Maximum']]\n"
     ]
    },
    {
     "output_type": "execute_result",
     "data": {
      "text/plain": [
       "       Month  Day  Maximum\n",
       "60267      1    3     36.6\n",
       "60273      1    9     31.9\n",
       "60274      1   10     32.9\n",
       "60277      1   13     32.2\n",
       "60278      1   14     33.8\n",
       "60279      1   15     36.8\n",
       "60286      1   22     31.7\n",
       "60293      1   29     31.5\n",
       "60294      1   30     39.4\n",
       "60295      1   31     42.9\n",
       "60308      2   13     31.7\n",
       "60309      2   14     33.7\n",
       "60318      2   23     34.0\n",
       "60320      2   25     31.6\n",
       "60325      3    1     32.1\n",
       "60343      3   19     30.4\n",
       "60572     11    3     30.4\n",
       "60579     11   10     32.0\n",
       "60584     11   15     32.5\n",
       "60588     11   19     34.4\n",
       "60594     11   25     30.5\n",
       "60596     11   27     36.0\n",
       "60612     12   13     30.2\n",
       "60613     12   14     33.7\n",
       "60614     12   15     33.5\n",
       "60626     12   27     31.9"
      ],
      "text/html": "<div>\n<style scoped>\n    .dataframe tbody tr th:only-of-type {\n        vertical-align: middle;\n    }\n\n    .dataframe tbody tr th {\n        vertical-align: top;\n    }\n\n    .dataframe thead th {\n        text-align: right;\n    }\n</style>\n<table border=\"1\" class=\"dataframe\">\n  <thead>\n    <tr style=\"text-align: right;\">\n      <th></th>\n      <th>Month</th>\n      <th>Day</th>\n      <th>Maximum</th>\n    </tr>\n  </thead>\n  <tbody>\n    <tr>\n      <th>60267</th>\n      <td>1</td>\n      <td>3</td>\n      <td>36.6</td>\n    </tr>\n    <tr>\n      <th>60273</th>\n      <td>1</td>\n      <td>9</td>\n      <td>31.9</td>\n    </tr>\n    <tr>\n      <th>60274</th>\n      <td>1</td>\n      <td>10</td>\n      <td>32.9</td>\n    </tr>\n    <tr>\n      <th>60277</th>\n      <td>1</td>\n      <td>13</td>\n      <td>32.2</td>\n    </tr>\n    <tr>\n      <th>60278</th>\n      <td>1</td>\n      <td>14</td>\n      <td>33.8</td>\n    </tr>\n    <tr>\n      <th>60279</th>\n      <td>1</td>\n      <td>15</td>\n      <td>36.8</td>\n    </tr>\n    <tr>\n      <th>60286</th>\n      <td>1</td>\n      <td>22</td>\n      <td>31.7</td>\n    </tr>\n    <tr>\n      <th>60293</th>\n      <td>1</td>\n      <td>29</td>\n      <td>31.5</td>\n    </tr>\n    <tr>\n      <th>60294</th>\n      <td>1</td>\n      <td>30</td>\n      <td>39.4</td>\n    </tr>\n    <tr>\n      <th>60295</th>\n      <td>1</td>\n      <td>31</td>\n      <td>42.9</td>\n    </tr>\n    <tr>\n      <th>60308</th>\n      <td>2</td>\n      <td>13</td>\n      <td>31.7</td>\n    </tr>\n    <tr>\n      <th>60309</th>\n      <td>2</td>\n      <td>14</td>\n      <td>33.7</td>\n    </tr>\n    <tr>\n      <th>60318</th>\n      <td>2</td>\n      <td>23</td>\n      <td>34.0</td>\n    </tr>\n    <tr>\n      <th>60320</th>\n      <td>2</td>\n      <td>25</td>\n      <td>31.6</td>\n    </tr>\n    <tr>\n      <th>60325</th>\n      <td>3</td>\n      <td>1</td>\n      <td>32.1</td>\n    </tr>\n    <tr>\n      <th>60343</th>\n      <td>3</td>\n      <td>19</td>\n      <td>30.4</td>\n    </tr>\n    <tr>\n      <th>60572</th>\n      <td>11</td>\n      <td>3</td>\n      <td>30.4</td>\n    </tr>\n    <tr>\n      <th>60579</th>\n      <td>11</td>\n      <td>10</td>\n      <td>32.0</td>\n    </tr>\n    <tr>\n      <th>60584</th>\n      <td>11</td>\n      <td>15</td>\n      <td>32.5</td>\n    </tr>\n    <tr>\n      <th>60588</th>\n      <td>11</td>\n      <td>19</td>\n      <td>34.4</td>\n    </tr>\n    <tr>\n      <th>60594</th>\n      <td>11</td>\n      <td>25</td>\n      <td>30.5</td>\n    </tr>\n    <tr>\n      <th>60596</th>\n      <td>11</td>\n      <td>27</td>\n      <td>36.0</td>\n    </tr>\n    <tr>\n      <th>60612</th>\n      <td>12</td>\n      <td>13</td>\n      <td>30.2</td>\n    </tr>\n    <tr>\n      <th>60613</th>\n      <td>12</td>\n      <td>14</td>\n      <td>33.7</td>\n    </tr>\n    <tr>\n      <th>60614</th>\n      <td>12</td>\n      <td>15</td>\n      <td>33.5</td>\n    </tr>\n    <tr>\n      <th>60626</th>\n      <td>12</td>\n      <td>27</td>\n      <td>31.9</td>\n    </tr>\n  </tbody>\n</table>\n</div>"
     },
     "metadata": {},
     "execution_count": 10
    }
   ],
   "source": [
    "# You can also slice then filter and extract\n",
    "bom.iloc[-366:][temp_filter][['Month','Day', 'Maximum']]"
   ]
  },
  {
   "cell_type": "code",
   "execution_count": 16,
   "metadata": {},
   "outputs": [
    {
     "output_type": "execute_result",
     "data": {
      "text/plain": [
       "4        1\n",
       "5        1\n",
       "6        6\n",
       "7       31\n",
       "8       85\n",
       "9      237\n",
       "10     748\n",
       "11    1762\n",
       "12    2932\n",
       "13    3956\n",
       "14    4217\n",
       "15    4473\n",
       "16    4503\n",
       "17    4197\n",
       "18    4133\n",
       "19    3875\n",
       "20    3652\n",
       "21    3373\n",
       "22    2853\n",
       "23    2314\n",
       "24    1816\n",
       "25    1680\n",
       "26    1508\n",
       "27    1181\n",
       "28    1100\n",
       "29     865\n",
       "30     878\n",
       "31     725\n",
       "32     689\n",
       "33     585\n",
       "34     490\n",
       "35     447\n",
       "36     352\n",
       "37     267\n",
       "38     215\n",
       "39     139\n",
       "40     115\n",
       "41      52\n",
       "42      28\n",
       "43      20\n",
       "44       5\n",
       "45       2\n",
       "46       1\n",
       "Name: Maximum, dtype: int64"
      ]
     },
     "metadata": {},
     "execution_count": 16
    }
   ],
   "source": [
    "# Let's create a histogram of maximum temperatures\n",
    "# Define bins according to the integer part of a temperature value\n",
    "max = bom['Maximum'][bom['Maximum'].notna()].apply(lambda t: math.floor(t))\n",
    "histogram = max.value_counts()\n",
    "\n",
    "# And sort the bins (which is the index for this Series)\n",
    "# Now we should see how often a certain maximum is reached\n",
    "histogram.sort_index()"
   ]
  },
  {
   "source": [
    "## Grouping\n",
    "\n",
    "A `DataFrame` may be split into groups according to specific criteria. These groups can then have aggregate functions applied to them to produce a meaningful dataset.\n"
   ],
   "cell_type": "markdown",
   "metadata": {}
  },
  {
   "cell_type": "code",
   "execution_count": 70,
   "metadata": {},
   "outputs": [
    {
     "output_type": "execute_result",
     "data": {
      "text/plain": [
       "             Maximum    Minimum  Rainfall\n",
       "Month Day                                \n",
       "1     1    24.774545  14.007273  1.062424\n",
       "      2    25.373939  13.790909  2.217576\n",
       "      3    25.591515  13.894545  2.174545\n",
       "      4    25.165455  13.863030  1.623171\n",
       "      5    25.249697  13.766667  1.859146\n",
       "      6    24.783030  14.026667  1.736970\n",
       "      7    25.480606  13.998788  1.509697\n",
       "      8    26.320606  14.487273  1.352439\n",
       "      9    26.341818  14.472727  1.488485\n",
       "      10   26.456970  14.341212  1.286061\n",
       "      11   26.042424  14.497576  1.101212\n",
       "      12   25.761212  14.372727  1.106667\n",
       "      13   26.427273  14.517576  1.487879\n",
       "      14   26.404848  14.708485  1.615854\n",
       "      15   26.243636  14.591515  1.822561"
      ],
      "text/html": "<div>\n<style scoped>\n    .dataframe tbody tr th:only-of-type {\n        vertical-align: middle;\n    }\n\n    .dataframe tbody tr th {\n        vertical-align: top;\n    }\n\n    .dataframe thead th {\n        text-align: right;\n    }\n</style>\n<table border=\"1\" class=\"dataframe\">\n  <thead>\n    <tr style=\"text-align: right;\">\n      <th></th>\n      <th></th>\n      <th>Maximum</th>\n      <th>Minimum</th>\n      <th>Rainfall</th>\n    </tr>\n    <tr>\n      <th>Month</th>\n      <th>Day</th>\n      <th></th>\n      <th></th>\n      <th></th>\n    </tr>\n  </thead>\n  <tbody>\n    <tr>\n      <th rowspan=\"15\" valign=\"top\">1</th>\n      <th>1</th>\n      <td>24.774545</td>\n      <td>14.007273</td>\n      <td>1.062424</td>\n    </tr>\n    <tr>\n      <th>2</th>\n      <td>25.373939</td>\n      <td>13.790909</td>\n      <td>2.217576</td>\n    </tr>\n    <tr>\n      <th>3</th>\n      <td>25.591515</td>\n      <td>13.894545</td>\n      <td>2.174545</td>\n    </tr>\n    <tr>\n      <th>4</th>\n      <td>25.165455</td>\n      <td>13.863030</td>\n      <td>1.623171</td>\n    </tr>\n    <tr>\n      <th>5</th>\n      <td>25.249697</td>\n      <td>13.766667</td>\n      <td>1.859146</td>\n    </tr>\n    <tr>\n      <th>6</th>\n      <td>24.783030</td>\n      <td>14.026667</td>\n      <td>1.736970</td>\n    </tr>\n    <tr>\n      <th>7</th>\n      <td>25.480606</td>\n      <td>13.998788</td>\n      <td>1.509697</td>\n    </tr>\n    <tr>\n      <th>8</th>\n      <td>26.320606</td>\n      <td>14.487273</td>\n      <td>1.352439</td>\n    </tr>\n    <tr>\n      <th>9</th>\n      <td>26.341818</td>\n      <td>14.472727</td>\n      <td>1.488485</td>\n    </tr>\n    <tr>\n      <th>10</th>\n      <td>26.456970</td>\n      <td>14.341212</td>\n      <td>1.286061</td>\n    </tr>\n    <tr>\n      <th>11</th>\n      <td>26.042424</td>\n      <td>14.497576</td>\n      <td>1.101212</td>\n    </tr>\n    <tr>\n      <th>12</th>\n      <td>25.761212</td>\n      <td>14.372727</td>\n      <td>1.106667</td>\n    </tr>\n    <tr>\n      <th>13</th>\n      <td>26.427273</td>\n      <td>14.517576</td>\n      <td>1.487879</td>\n    </tr>\n    <tr>\n      <th>14</th>\n      <td>26.404848</td>\n      <td>14.708485</td>\n      <td>1.615854</td>\n    </tr>\n    <tr>\n      <th>15</th>\n      <td>26.243636</td>\n      <td>14.591515</td>\n      <td>1.822561</td>\n    </tr>\n  </tbody>\n</table>\n</div>"
     },
     "metadata": {},
     "execution_count": 70
    }
   ],
   "source": [
    "# Simple grouping\n",
    "df = bom.groupby(['Month', 'Day']).mean()\n",
    "\n",
    "# See how `Month` and `Day` are the grouping indexes\n",
    "df[['Maximum', 'Minimum', 'Rainfall']].head(15)\n"
   ]
  },
  {
   "cell_type": "code",
   "execution_count": 25,
   "metadata": {},
   "outputs": [
    {
     "output_type": "stream",
     "name": "stdout",
     "text": [
      "Int64Index([1, 2, 3, 4, 5, 6, 7, 8, 9, 10, 11, 12], dtype='int64', name='Month')\n"
     ]
    },
    {
     "output_type": "execute_result",
     "data": {
      "text/plain": [
       "         Minimum    Maximum\n",
       "Month                      \n",
       "1      14.411906  25.954467\n",
       "2      14.696996  25.839562\n",
       "3      13.309814  23.929717\n",
       "4      10.857818  20.348434\n",
       "5       8.725909  16.749378\n",
       "6       6.943322  14.101988\n",
       "7       6.086242  13.516459\n",
       "8       6.762728  14.990808\n",
       "9       8.050201  17.268614\n",
       "10      9.607093  19.731520\n",
       "11     11.303976  22.009056\n",
       "12     13.022119  24.244820"
      ],
      "text/html": "<div>\n<style scoped>\n    .dataframe tbody tr th:only-of-type {\n        vertical-align: middle;\n    }\n\n    .dataframe tbody tr th {\n        vertical-align: top;\n    }\n\n    .dataframe thead th {\n        text-align: right;\n    }\n</style>\n<table border=\"1\" class=\"dataframe\">\n  <thead>\n    <tr style=\"text-align: right;\">\n      <th></th>\n      <th>Minimum</th>\n      <th>Maximum</th>\n    </tr>\n    <tr>\n      <th>Month</th>\n      <th></th>\n      <th></th>\n    </tr>\n  </thead>\n  <tbody>\n    <tr>\n      <th>1</th>\n      <td>14.411906</td>\n      <td>25.954467</td>\n    </tr>\n    <tr>\n      <th>2</th>\n      <td>14.696996</td>\n      <td>25.839562</td>\n    </tr>\n    <tr>\n      <th>3</th>\n      <td>13.309814</td>\n      <td>23.929717</td>\n    </tr>\n    <tr>\n      <th>4</th>\n      <td>10.857818</td>\n      <td>20.348434</td>\n    </tr>\n    <tr>\n      <th>5</th>\n      <td>8.725909</td>\n      <td>16.749378</td>\n    </tr>\n    <tr>\n      <th>6</th>\n      <td>6.943322</td>\n      <td>14.101988</td>\n    </tr>\n    <tr>\n      <th>7</th>\n      <td>6.086242</td>\n      <td>13.516459</td>\n    </tr>\n    <tr>\n      <th>8</th>\n      <td>6.762728</td>\n      <td>14.990808</td>\n    </tr>\n    <tr>\n      <th>9</th>\n      <td>8.050201</td>\n      <td>17.268614</td>\n    </tr>\n    <tr>\n      <th>10</th>\n      <td>9.607093</td>\n      <td>19.731520</td>\n    </tr>\n    <tr>\n      <th>11</th>\n      <td>11.303976</td>\n      <td>22.009056</td>\n    </tr>\n    <tr>\n      <th>12</th>\n      <td>13.022119</td>\n      <td>24.244820</td>\n    </tr>\n  </tbody>\n</table>\n</div>"
     },
     "metadata": {},
     "execution_count": 25
    }
   ],
   "source": [
    "# Long-term mean monthly temperature\n",
    "# As we are specifying the output series we need to specify the grouping objects as series\n",
    "monthly_mean_temp_longterm = bom[['Minimum', 'Maximum']].groupby([bom['Month']]).mean()\n",
    "\n",
    "# See how 'Month' is now an index in this `DataFrame`\n",
    "print(monthly_mean_temp_longterm.index)\n",
    "\n",
    "# Show\n",
    "monthly_mean_temp_longterm"
   ]
  },
  {
   "cell_type": "code",
   "execution_count": 23,
   "metadata": {},
   "outputs": [
    {
     "output_type": "execute_result",
     "data": {
      "text/plain": [
       "       Month   Rainfall\n",
       "Month                  \n",
       "1          1  47.037952\n",
       "2          2  47.040964\n",
       "3          3  49.178313\n",
       "4          4  57.427108\n",
       "5          5  55.559639\n",
       "6          6  49.065060\n",
       "7          7  47.262048\n",
       "8          8  50.080120\n",
       "9          9  57.404819\n",
       "10        10  64.985542\n",
       "11        11  60.023494\n",
       "12        12  59.136145"
      ],
      "text/html": "<div>\n<style scoped>\n    .dataframe tbody tr th:only-of-type {\n        vertical-align: middle;\n    }\n\n    .dataframe tbody tr th {\n        vertical-align: top;\n    }\n\n    .dataframe thead th {\n        text-align: right;\n    }\n</style>\n<table border=\"1\" class=\"dataframe\">\n  <thead>\n    <tr style=\"text-align: right;\">\n      <th></th>\n      <th>Month</th>\n      <th>Rainfall</th>\n    </tr>\n    <tr>\n      <th>Month</th>\n      <th></th>\n      <th></th>\n    </tr>\n  </thead>\n  <tbody>\n    <tr>\n      <th>1</th>\n      <td>1</td>\n      <td>47.037952</td>\n    </tr>\n    <tr>\n      <th>2</th>\n      <td>2</td>\n      <td>47.040964</td>\n    </tr>\n    <tr>\n      <th>3</th>\n      <td>3</td>\n      <td>49.178313</td>\n    </tr>\n    <tr>\n      <th>4</th>\n      <td>4</td>\n      <td>57.427108</td>\n    </tr>\n    <tr>\n      <th>5</th>\n      <td>5</td>\n      <td>55.559639</td>\n    </tr>\n    <tr>\n      <th>6</th>\n      <td>6</td>\n      <td>49.065060</td>\n    </tr>\n    <tr>\n      <th>7</th>\n      <td>7</td>\n      <td>47.262048</td>\n    </tr>\n    <tr>\n      <th>8</th>\n      <td>8</td>\n      <td>50.080120</td>\n    </tr>\n    <tr>\n      <th>9</th>\n      <td>9</td>\n      <td>57.404819</td>\n    </tr>\n    <tr>\n      <th>10</th>\n      <td>10</td>\n      <td>64.985542</td>\n    </tr>\n    <tr>\n      <th>11</th>\n      <td>11</td>\n      <td>60.023494</td>\n    </tr>\n    <tr>\n      <th>12</th>\n      <td>12</td>\n      <td>59.136145</td>\n    </tr>\n  </tbody>\n</table>\n</div>"
     },
     "metadata": {},
     "execution_count": 23
    }
   ],
   "source": [
    "# Long-term mean monthly rainfall totals\n",
    "# First calculate the sum for every month, then determine the monthly mean\n",
    "# You may want to keep 'Month' in the output `DataFrame` so it can be used in a plot\n",
    "df = bom[['Year','Month','Rainfall']].groupby([bom['Year'], bom['Month']]).agg({'Year': 'first', 'Month': 'first', 'Rainfall': 'sum'})\n",
    "monthly_mean_rainfall_total_longterm = df[['Month', 'Rainfall']].groupby([df['Month']]).agg({'Month':'first','Rainfall':'mean'})\n",
    "\n",
    "# Show\n",
    "monthly_mean_rainfall_total_longterm\n"
   ]
  },
  {
   "cell_type": "code",
   "execution_count": 28,
   "metadata": {},
   "outputs": [],
   "source": [
    "# Let's see what the means are for the last 40 years\n",
    "# We'll use built-in `datetime` objects to help create the range we need\n",
    "FORTY_YEARS_AGO = pd.to_datetime(dt.datetime(1981, 1, 1))\n",
    "recent = bom.copy()\n",
    "recent['Date'] = pd.Series([pd.to_datetime(dt.datetime(r.Year, r.Month, r.Day)) for r in recent.itertuples()])\n",
    "recent = recent[recent['Date'] >= FORTY_YEARS_AGO]"
   ]
  },
  {
   "cell_type": "code",
   "execution_count": 32,
   "metadata": {},
   "outputs": [
    {
     "output_type": "execute_result",
     "data": {
      "text/plain": [
       "         Minimum    Maximum\n",
       "Month                      \n",
       "1      15.892097  26.500806\n",
       "2      16.072124  26.562478\n",
       "3      14.658710  24.496532\n",
       "4      11.900417  21.023520\n",
       "5       9.875403  17.546048\n",
       "6       7.848123  14.813583\n",
       "7       7.268306  14.289839\n",
       "8       7.885806  15.618145\n",
       "9       9.278250  17.804000\n",
       "10     10.757016  20.360968\n",
       "11     12.712750  22.742583\n",
       "12     14.258871  24.610000"
      ],
      "text/html": "<div>\n<style scoped>\n    .dataframe tbody tr th:only-of-type {\n        vertical-align: middle;\n    }\n\n    .dataframe tbody tr th {\n        vertical-align: top;\n    }\n\n    .dataframe thead th {\n        text-align: right;\n    }\n</style>\n<table border=\"1\" class=\"dataframe\">\n  <thead>\n    <tr style=\"text-align: right;\">\n      <th></th>\n      <th>Minimum</th>\n      <th>Maximum</th>\n    </tr>\n    <tr>\n      <th>Month</th>\n      <th></th>\n      <th></th>\n    </tr>\n  </thead>\n  <tbody>\n    <tr>\n      <th>1</th>\n      <td>15.892097</td>\n      <td>26.500806</td>\n    </tr>\n    <tr>\n      <th>2</th>\n      <td>16.072124</td>\n      <td>26.562478</td>\n    </tr>\n    <tr>\n      <th>3</th>\n      <td>14.658710</td>\n      <td>24.496532</td>\n    </tr>\n    <tr>\n      <th>4</th>\n      <td>11.900417</td>\n      <td>21.023520</td>\n    </tr>\n    <tr>\n      <th>5</th>\n      <td>9.875403</td>\n      <td>17.546048</td>\n    </tr>\n    <tr>\n      <th>6</th>\n      <td>7.848123</td>\n      <td>14.813583</td>\n    </tr>\n    <tr>\n      <th>7</th>\n      <td>7.268306</td>\n      <td>14.289839</td>\n    </tr>\n    <tr>\n      <th>8</th>\n      <td>7.885806</td>\n      <td>15.618145</td>\n    </tr>\n    <tr>\n      <th>9</th>\n      <td>9.278250</td>\n      <td>17.804000</td>\n    </tr>\n    <tr>\n      <th>10</th>\n      <td>10.757016</td>\n      <td>20.360968</td>\n    </tr>\n    <tr>\n      <th>11</th>\n      <td>12.712750</td>\n      <td>22.742583</td>\n    </tr>\n    <tr>\n      <th>12</th>\n      <td>14.258871</td>\n      <td>24.610000</td>\n    </tr>\n  </tbody>\n</table>\n</div>"
     },
     "metadata": {},
     "execution_count": 32
    }
   ],
   "source": [
    "# Mean temperature over the last 40 years\n",
    "monthly_mean_temp_recent = recent[['Minimum', 'Maximum']].groupby([recent['Month']]).mean()\n",
    "\n",
    "monthly_mean_temp_recent"
   ]
  },
  {
   "cell_type": "code",
   "execution_count": 33,
   "metadata": {},
   "outputs": [
    {
     "output_type": "execute_result",
     "data": {
      "text/plain": [
       "       Month  Rainfall\n",
       "Month                 \n",
       "1          1    45.280\n",
       "2          2    41.625\n",
       "3          3    39.240\n",
       "4          4    53.280\n",
       "5          5    48.090\n",
       "6          6    46.820\n",
       "7          7    44.185\n",
       "8          8    49.770\n",
       "9          9    51.680\n",
       "10        10    54.570\n",
       "11        11    61.995\n",
       "12        12    62.015"
      ],
      "text/html": "<div>\n<style scoped>\n    .dataframe tbody tr th:only-of-type {\n        vertical-align: middle;\n    }\n\n    .dataframe tbody tr th {\n        vertical-align: top;\n    }\n\n    .dataframe thead th {\n        text-align: right;\n    }\n</style>\n<table border=\"1\" class=\"dataframe\">\n  <thead>\n    <tr style=\"text-align: right;\">\n      <th></th>\n      <th>Month</th>\n      <th>Rainfall</th>\n    </tr>\n    <tr>\n      <th>Month</th>\n      <th></th>\n      <th></th>\n    </tr>\n  </thead>\n  <tbody>\n    <tr>\n      <th>1</th>\n      <td>1</td>\n      <td>45.280</td>\n    </tr>\n    <tr>\n      <th>2</th>\n      <td>2</td>\n      <td>41.625</td>\n    </tr>\n    <tr>\n      <th>3</th>\n      <td>3</td>\n      <td>39.240</td>\n    </tr>\n    <tr>\n      <th>4</th>\n      <td>4</td>\n      <td>53.280</td>\n    </tr>\n    <tr>\n      <th>5</th>\n      <td>5</td>\n      <td>48.090</td>\n    </tr>\n    <tr>\n      <th>6</th>\n      <td>6</td>\n      <td>46.820</td>\n    </tr>\n    <tr>\n      <th>7</th>\n      <td>7</td>\n      <td>44.185</td>\n    </tr>\n    <tr>\n      <th>8</th>\n      <td>8</td>\n      <td>49.770</td>\n    </tr>\n    <tr>\n      <th>9</th>\n      <td>9</td>\n      <td>51.680</td>\n    </tr>\n    <tr>\n      <th>10</th>\n      <td>10</td>\n      <td>54.570</td>\n    </tr>\n    <tr>\n      <th>11</th>\n      <td>11</td>\n      <td>61.995</td>\n    </tr>\n    <tr>\n      <th>12</th>\n      <td>12</td>\n      <td>62.015</td>\n    </tr>\n  </tbody>\n</table>\n</div>"
     },
     "metadata": {},
     "execution_count": 33
    }
   ],
   "source": [
    "# Mean monthly total rainfall for the last 40 years\n",
    "df = recent[['Year','Month','Rainfall']].groupby([recent['Year'], recent['Month']]).agg({'Year': 'first', 'Month': 'first', 'Rainfall': 'sum'})\n",
    "monthly_mean_rainfall_total_recent = df[['Month', 'Rainfall']].groupby([df['Month']]).agg({'Month':'first','Rainfall':'mean'})\n",
    "\n",
    "# Show\n",
    "monthly_mean_rainfall_total_recent"
   ]
  },
  {
   "cell_type": "code",
   "execution_count": 34,
   "metadata": {},
   "outputs": [
    {
     "output_type": "execute_result",
     "data": {
      "text/plain": [
       "       Minimum  Maximum\n",
       "Month                  \n",
       "1         True     True\n",
       "2         True     True\n",
       "3         True     True\n",
       "4         True     True\n",
       "5         True     True\n",
       "6         True     True\n",
       "7         True     True\n",
       "8         True     True\n",
       "9         True     True\n",
       "10        True     True\n",
       "11        True     True\n",
       "12        True     True"
      ],
      "text/html": "<div>\n<style scoped>\n    .dataframe tbody tr th:only-of-type {\n        vertical-align: middle;\n    }\n\n    .dataframe tbody tr th {\n        vertical-align: top;\n    }\n\n    .dataframe thead th {\n        text-align: right;\n    }\n</style>\n<table border=\"1\" class=\"dataframe\">\n  <thead>\n    <tr style=\"text-align: right;\">\n      <th></th>\n      <th>Minimum</th>\n      <th>Maximum</th>\n    </tr>\n    <tr>\n      <th>Month</th>\n      <th></th>\n      <th></th>\n    </tr>\n  </thead>\n  <tbody>\n    <tr>\n      <th>1</th>\n      <td>True</td>\n      <td>True</td>\n    </tr>\n    <tr>\n      <th>2</th>\n      <td>True</td>\n      <td>True</td>\n    </tr>\n    <tr>\n      <th>3</th>\n      <td>True</td>\n      <td>True</td>\n    </tr>\n    <tr>\n      <th>4</th>\n      <td>True</td>\n      <td>True</td>\n    </tr>\n    <tr>\n      <th>5</th>\n      <td>True</td>\n      <td>True</td>\n    </tr>\n    <tr>\n      <th>6</th>\n      <td>True</td>\n      <td>True</td>\n    </tr>\n    <tr>\n      <th>7</th>\n      <td>True</td>\n      <td>True</td>\n    </tr>\n    <tr>\n      <th>8</th>\n      <td>True</td>\n      <td>True</td>\n    </tr>\n    <tr>\n      <th>9</th>\n      <td>True</td>\n      <td>True</td>\n    </tr>\n    <tr>\n      <th>10</th>\n      <td>True</td>\n      <td>True</td>\n    </tr>\n    <tr>\n      <th>11</th>\n      <td>True</td>\n      <td>True</td>\n    </tr>\n    <tr>\n      <th>12</th>\n      <td>True</td>\n      <td>True</td>\n    </tr>\n  </tbody>\n</table>\n</div>"
     },
     "metadata": {},
     "execution_count": 34
    }
   ],
   "source": [
    "# Are recent mean temperatures higher than the long-term mean?\n",
    "monthly_mean_temp_recent > monthly_mean_temp_longterm\n"
   ]
  },
  {
   "cell_type": "code",
   "execution_count": 36,
   "metadata": {},
   "outputs": [
    {
     "output_type": "execute_result",
     "data": {
      "text/plain": [
       "Month\n",
       "1      True\n",
       "2      True\n",
       "3      True\n",
       "4      True\n",
       "5      True\n",
       "6      True\n",
       "7      True\n",
       "8      True\n",
       "9      True\n",
       "10     True\n",
       "11    False\n",
       "12    False\n",
       "Name: Rainfall, dtype: bool"
      ]
     },
     "metadata": {},
     "execution_count": 36
    }
   ],
   "source": [
    "# Are recent mean rainfall totals lower than the long-term mean?\n",
    "monthly_mean_rainfall_total_recent['Rainfall'] < monthly_mean_rainfall_total_longterm['Rainfall']"
   ]
  },
  {
   "cell_type": "code",
   "execution_count": 40,
   "metadata": {},
   "outputs": [
    {
     "output_type": "stream",
     "name": "stdout",
     "text": [
      "Year\n2016    20.325410\n2017    20.875616\n2018    20.722192\n2019    20.756164\n2020    19.856557\nName: Maximum, dtype: float64\n\nYear\n2016    20.325410\n2017    20.875616\n2018    20.722192\n2019    20.756164\n2020    19.856557\nName: Maximum, dtype: float64\n"
     ]
    }
   ],
   "source": [
    "# This and the next code cell helped create the file `Melbourne_Annual.csv`\n",
    "# Yearly mean temperature\n",
    "mean_temperature_annual_longterm = bom['Maximum'].groupby([bom['Year']]).mean()\n",
    "mean_temperature_annual_recent = recent['Maximum'].groupby([recent['Year']]).mean()\n",
    "\n",
    "print(mean_temperature_annual_longterm.tail())\n",
    "print()\n",
    "print(mean_temperature_annual_recent.tail())\n"
   ]
  },
  {
   "cell_type": "code",
   "execution_count": 43,
   "metadata": {},
   "outputs": [
    {
     "output_type": "stream",
     "name": "stdout",
     "text": [
      "Year\n2016    599.6\n2017    602.0\n2018    514.4\n2019    374.4\n2020    786.8\nName: Rainfall, dtype: float64\n\nYear\n2016    599.6\n2017    602.0\n2018    514.4\n2019    374.4\n2020    786.8\nName: Rainfall, dtype: float64\n"
     ]
    }
   ],
   "source": [
    "# Yearly total rainfall\n",
    "total_rainfall_annual_longterm = bom['Rainfall'].groupby([bom['Year']]).sum()\n",
    "total_rainfall_annual_recent = recent['Rainfall'].groupby([recent['Year']]).sum()\n",
    "\n",
    "print(total_rainfall_annual_longterm.tail())\n",
    "print()\n",
    "print(total_rainfall_annual_recent.tail())"
   ]
  },
  {
   "cell_type": "code",
   "execution_count": 85,
   "metadata": {},
   "outputs": [
    {
     "output_type": "execute_result",
     "data": {
      "text/plain": [
       "           Highest_Temp\n",
       "Month Day              \n",
       "3     24           36.1\n",
       "      25           36.1\n",
       "      26           34.2\n",
       "      27           35.6\n",
       "      28           34.4\n",
       "      29           37.8\n",
       "      30           35.9\n",
       "      31           34.4\n",
       "4     1            33.4\n",
       "      2            33.5\n",
       "      3            32.3\n",
       "      4            33.9\n",
       "      5            34.9\n",
       "      6            34.4\n",
       "      7            33.9"
      ],
      "text/html": "<div>\n<style scoped>\n    .dataframe tbody tr th:only-of-type {\n        vertical-align: middle;\n    }\n\n    .dataframe tbody tr th {\n        vertical-align: top;\n    }\n\n    .dataframe thead th {\n        text-align: right;\n    }\n</style>\n<table border=\"1\" class=\"dataframe\">\n  <thead>\n    <tr style=\"text-align: right;\">\n      <th></th>\n      <th></th>\n      <th>Highest_Temp</th>\n    </tr>\n    <tr>\n      <th>Month</th>\n      <th>Day</th>\n      <th></th>\n    </tr>\n  </thead>\n  <tbody>\n    <tr>\n      <th rowspan=\"8\" valign=\"top\">3</th>\n      <th>24</th>\n      <td>36.1</td>\n    </tr>\n    <tr>\n      <th>25</th>\n      <td>36.1</td>\n    </tr>\n    <tr>\n      <th>26</th>\n      <td>34.2</td>\n    </tr>\n    <tr>\n      <th>27</th>\n      <td>35.6</td>\n    </tr>\n    <tr>\n      <th>28</th>\n      <td>34.4</td>\n    </tr>\n    <tr>\n      <th>29</th>\n      <td>37.8</td>\n    </tr>\n    <tr>\n      <th>30</th>\n      <td>35.9</td>\n    </tr>\n    <tr>\n      <th>31</th>\n      <td>34.4</td>\n    </tr>\n    <tr>\n      <th rowspan=\"7\" valign=\"top\">4</th>\n      <th>1</th>\n      <td>33.4</td>\n    </tr>\n    <tr>\n      <th>2</th>\n      <td>33.5</td>\n    </tr>\n    <tr>\n      <th>3</th>\n      <td>32.3</td>\n    </tr>\n    <tr>\n      <th>4</th>\n      <td>33.9</td>\n    </tr>\n    <tr>\n      <th>5</th>\n      <td>34.9</td>\n    </tr>\n    <tr>\n      <th>6</th>\n      <td>34.4</td>\n    </tr>\n    <tr>\n      <th>7</th>\n      <td>33.9</td>\n    </tr>\n  </tbody>\n</table>\n</div>"
     },
     "metadata": {},
     "execution_count": 85
    }
   ],
   "source": [
    "# Given the warm weather over late March and early April, what were the highest recorded temperatures reached for each of these days?\n",
    "\n",
    "march_filter = (bom['Month'] == 3) & (bom['Day'] >= 24)\n",
    "april_filter = (bom['Month'] == 4) & (bom['Day'] <= 7)\n",
    "\n",
    "df = bom[march_filter | april_filter]\n",
    "data = df.groupby([df['Month'],df['Day']]).agg(Highest_Temp=('Maximum', 'max'))\n",
    "\n",
    "data"
   ]
  },
  {
   "cell_type": "code",
   "execution_count": 87,
   "metadata": {},
   "outputs": [
    {
     "output_type": "execute_result",
     "data": {
      "text/plain": [
       "    Year  Month  Day  Highest_Temp\n",
       "0   1882      3   24          36.1\n",
       "1   1884      3   25          36.1\n",
       "2   1884      3   26          34.2\n",
       "3   2013      3   27          35.6\n",
       "4   1888      3   28          34.4\n",
       "5   1940      3   29          37.8\n",
       "6   1940      3   30          35.9\n",
       "7   1936      3   31          34.4\n",
       "8   2014      4    1          33.4\n",
       "9   1954      4    2          33.5\n",
       "10  1886      4    3          32.3\n",
       "11  1938      4    4          33.9\n",
       "12  1938      4    5          34.9\n",
       "13  1865      4    6          34.4\n",
       "14  1865      4    7          33.9"
      ],
      "text/html": "<div>\n<style scoped>\n    .dataframe tbody tr th:only-of-type {\n        vertical-align: middle;\n    }\n\n    .dataframe tbody tr th {\n        vertical-align: top;\n    }\n\n    .dataframe thead th {\n        text-align: right;\n    }\n</style>\n<table border=\"1\" class=\"dataframe\">\n  <thead>\n    <tr style=\"text-align: right;\">\n      <th></th>\n      <th>Year</th>\n      <th>Month</th>\n      <th>Day</th>\n      <th>Highest_Temp</th>\n    </tr>\n  </thead>\n  <tbody>\n    <tr>\n      <th>0</th>\n      <td>1882</td>\n      <td>3</td>\n      <td>24</td>\n      <td>36.1</td>\n    </tr>\n    <tr>\n      <th>1</th>\n      <td>1884</td>\n      <td>3</td>\n      <td>25</td>\n      <td>36.1</td>\n    </tr>\n    <tr>\n      <th>2</th>\n      <td>1884</td>\n      <td>3</td>\n      <td>26</td>\n      <td>34.2</td>\n    </tr>\n    <tr>\n      <th>3</th>\n      <td>2013</td>\n      <td>3</td>\n      <td>27</td>\n      <td>35.6</td>\n    </tr>\n    <tr>\n      <th>4</th>\n      <td>1888</td>\n      <td>3</td>\n      <td>28</td>\n      <td>34.4</td>\n    </tr>\n    <tr>\n      <th>5</th>\n      <td>1940</td>\n      <td>3</td>\n      <td>29</td>\n      <td>37.8</td>\n    </tr>\n    <tr>\n      <th>6</th>\n      <td>1940</td>\n      <td>3</td>\n      <td>30</td>\n      <td>35.9</td>\n    </tr>\n    <tr>\n      <th>7</th>\n      <td>1936</td>\n      <td>3</td>\n      <td>31</td>\n      <td>34.4</td>\n    </tr>\n    <tr>\n      <th>8</th>\n      <td>2014</td>\n      <td>4</td>\n      <td>1</td>\n      <td>33.4</td>\n    </tr>\n    <tr>\n      <th>9</th>\n      <td>1954</td>\n      <td>4</td>\n      <td>2</td>\n      <td>33.5</td>\n    </tr>\n    <tr>\n      <th>10</th>\n      <td>1886</td>\n      <td>4</td>\n      <td>3</td>\n      <td>32.3</td>\n    </tr>\n    <tr>\n      <th>11</th>\n      <td>1938</td>\n      <td>4</td>\n      <td>4</td>\n      <td>33.9</td>\n    </tr>\n    <tr>\n      <th>12</th>\n      <td>1938</td>\n      <td>4</td>\n      <td>5</td>\n      <td>34.9</td>\n    </tr>\n    <tr>\n      <th>13</th>\n      <td>1865</td>\n      <td>4</td>\n      <td>6</td>\n      <td>34.4</td>\n    </tr>\n    <tr>\n      <th>14</th>\n      <td>1865</td>\n      <td>4</td>\n      <td>7</td>\n      <td>33.9</td>\n    </tr>\n  </tbody>\n</table>\n</div>"
     },
     "metadata": {},
     "execution_count": 87
    }
   ],
   "source": [
    "# But when did it happen?\n",
    "# (Probably not the prettiest code)\n",
    "\n",
    "# The index for this `DataFrame` is a `MultiIndex` where the values of the groups is stored as a tuple\n",
    "index = data.index.to_flat_index()\n",
    "\n",
    "year = []\n",
    "month = []\n",
    "day = []\n",
    "temp = []\n",
    "\n",
    "for (m, d) in index:\n",
    "    t = data.at[(m, d), 'Highest_Temp']\n",
    "    r = df[(df['Month'] == m) & (df['Day'] == d) & (df['Maximum'] == t)].tail(1)\n",
    "    y = r['Year'].iloc[0]\n",
    "    year.append(y)\n",
    "    month.append(m)\n",
    "    day.append(d)\n",
    "    temp.append(t)\n",
    "\n",
    "highest_temps = pd.DataFrame(\n",
    "    data = {\n",
    "        'Year': year,\n",
    "        'Month': month,\n",
    "        'Day': day,\n",
    "        'Highest_Temp': temp\n",
    "    }\n",
    ")\n",
    "\n",
    "highest_temps"
   ]
  },
  {
   "source": [
    "## Sorting\n",
    "\n",
    "It is possible to sort the values of a `Series` or, as shown above, sort the index of a `DataFrame` or `Series`.\n"
   ],
   "cell_type": "markdown",
   "metadata": {}
  },
  {
   "cell_type": "code",
   "execution_count": 49,
   "metadata": {},
   "outputs": [
    {
     "output_type": "execute_result",
     "data": {
      "text/plain": [
       "       Year  Month  Day  Rainfall  Maximum  Minimum\n",
       "56285  2009      2    7       0.0     46.4     18.7\n",
       "30692  1939      1   13       0.0     45.6     16.9\n",
       "56277  2009      1   30       0.0     45.1     25.7\n",
       "30689  1939      1   10       0.0     44.7     15.7\n",
       "56276  2009      1   29       0.0     44.3     25.7\n",
       "19373  1908      1   17       0.0     44.2     20.4\n",
       "54080  2003      1   25       0.0     44.1     17.3\n",
       "2570   1862      1   14       0.8     44.0     20.9\n",
       "1847   1860      1   22       0.0     43.9     18.0\n",
       "58089  2014      1   16       0.0     43.9     27.0"
      ],
      "text/html": "<div>\n<style scoped>\n    .dataframe tbody tr th:only-of-type {\n        vertical-align: middle;\n    }\n\n    .dataframe tbody tr th {\n        vertical-align: top;\n    }\n\n    .dataframe thead th {\n        text-align: right;\n    }\n</style>\n<table border=\"1\" class=\"dataframe\">\n  <thead>\n    <tr style=\"text-align: right;\">\n      <th></th>\n      <th>Year</th>\n      <th>Month</th>\n      <th>Day</th>\n      <th>Rainfall</th>\n      <th>Maximum</th>\n      <th>Minimum</th>\n    </tr>\n  </thead>\n  <tbody>\n    <tr>\n      <th>56285</th>\n      <td>2009</td>\n      <td>2</td>\n      <td>7</td>\n      <td>0.0</td>\n      <td>46.4</td>\n      <td>18.7</td>\n    </tr>\n    <tr>\n      <th>30692</th>\n      <td>1939</td>\n      <td>1</td>\n      <td>13</td>\n      <td>0.0</td>\n      <td>45.6</td>\n      <td>16.9</td>\n    </tr>\n    <tr>\n      <th>56277</th>\n      <td>2009</td>\n      <td>1</td>\n      <td>30</td>\n      <td>0.0</td>\n      <td>45.1</td>\n      <td>25.7</td>\n    </tr>\n    <tr>\n      <th>30689</th>\n      <td>1939</td>\n      <td>1</td>\n      <td>10</td>\n      <td>0.0</td>\n      <td>44.7</td>\n      <td>15.7</td>\n    </tr>\n    <tr>\n      <th>56276</th>\n      <td>2009</td>\n      <td>1</td>\n      <td>29</td>\n      <td>0.0</td>\n      <td>44.3</td>\n      <td>25.7</td>\n    </tr>\n    <tr>\n      <th>19373</th>\n      <td>1908</td>\n      <td>1</td>\n      <td>17</td>\n      <td>0.0</td>\n      <td>44.2</td>\n      <td>20.4</td>\n    </tr>\n    <tr>\n      <th>54080</th>\n      <td>2003</td>\n      <td>1</td>\n      <td>25</td>\n      <td>0.0</td>\n      <td>44.1</td>\n      <td>17.3</td>\n    </tr>\n    <tr>\n      <th>2570</th>\n      <td>1862</td>\n      <td>1</td>\n      <td>14</td>\n      <td>0.8</td>\n      <td>44.0</td>\n      <td>20.9</td>\n    </tr>\n    <tr>\n      <th>1847</th>\n      <td>1860</td>\n      <td>1</td>\n      <td>22</td>\n      <td>0.0</td>\n      <td>43.9</td>\n      <td>18.0</td>\n    </tr>\n    <tr>\n      <th>58089</th>\n      <td>2014</td>\n      <td>1</td>\n      <td>16</td>\n      <td>0.0</td>\n      <td>43.9</td>\n      <td>27.0</td>\n    </tr>\n  </tbody>\n</table>\n</div>"
     },
     "metadata": {},
     "execution_count": 49
    }
   ],
   "source": [
    "# Find the hottest days in Melbourne and sort from the highest down\n",
    "df.sort_values(by='Maximum', ascending=False).head(10)"
   ]
  }
 ]
}