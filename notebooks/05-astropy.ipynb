{
 "metadata": {
  "language_info": {
   "codemirror_mode": {
    "name": "ipython",
    "version": 3
   },
   "file_extension": ".py",
   "mimetype": "text/x-python",
   "name": "python",
   "nbconvert_exporter": "python",
   "pygments_lexer": "ipython3",
   "version": "3.9.2"
  },
  "orig_nbformat": 2,
  "kernelspec": {
   "name": "python392jvsc74a57bd0aee8b7b246df8f9039afb4144a1f6fd8d2ca17a180786b69acc140d282b71a49",
   "display_name": "Python 3.9.2 64-bit"
  },
  "metadata": {
   "interpreter": {
    "hash": "aee8b7b246df8f9039afb4144a1f6fd8d2ca17a180786b69acc140d282b71a49"
   }
  }
 },
 "nbformat": 4,
 "nbformat_minor": 2,
 "cells": [
  {
   "source": [
    "# Using astropy to inspect the cosmos\n",
    "\n",
    "Let's combine pandas, matplotlib and astropy to provide some interesting views of our universe."
   ],
   "cell_type": "markdown",
   "metadata": {}
  },
  {
   "cell_type": "code",
   "execution_count": 5,
   "metadata": {},
   "outputs": [
    {
     "output_type": "stream",
     "name": "stdout",
     "text": [
      "Using matplotlib backend: MacOSX\n"
     ]
    }
   ],
   "source": [
    "# We're chaning the \"back-end\" of matplotlib so that we can interactive graphics!\n",
    "%matplotlib\n",
    "\n",
    "import numpy as np\n",
    "import pandas as pd\n",
    "import matplotlib.pyplot as plt \n",
    "from astropy import units as u \n",
    "from astropy.coordinates import SkyCoord, Angle, Galactocentric\n",
    "from astropy.cosmology import WMAP9 as cosmo\n",
    "from colors import colors"
   ]
  },
  {
   "cell_type": "code",
   "execution_count": 2,
   "metadata": {},
   "outputs": [],
   "source": [
    "galaxy_clusters = pd.read_csv('../data/abell-galaxy-clusters-simplified.csv')\n",
    "star_clusters = pd.read_csv('../data/star-clusters.csv')"
   ]
  },
  {
   "cell_type": "code",
   "execution_count": 6,
   "metadata": {},
   "outputs": [],
   "source": [
    "# Let's plot the galaxy clusters in a 3D view\n",
    "\n",
    "# A convenience function to transform the data so it can be plotted easier\n",
    "def to_galacto_centric(long, lat, redshift):\n",
    "    distance = cosmo.comoving_distance(redshift)\n",
    "    sc = SkyCoord(l=long * u.degree, b=lat * u.degree,\n",
    "                  distance=distance, frame='galactic')\n",
    "    gc = sc.transform_to(Galactocentric)\n",
    "    return [gc.x.value, gc.y.value, gc.z.value]\n",
    "\n",
    "\n",
    "rds = galaxy_clusters[galaxy_clusters['Redshift'].notna()]\n",
    "\n",
    "cs = np.array([\n",
    "    to_galacto_centric(row.GLON_2000, row.GLAT_2000, row.Redshift)\n",
    "    for row in rds.itertuples()\n",
    "])\n",
    "\n",
    "# This will pop-up an interactive window that you should be able to pan\n",
    "fig = plt.figure(figsize=(12, 12))\n",
    "ax = fig.add_subplot(projection='3d')\n",
    "ax.scatter(cs[:, 0], cs[:, 1], cs[:, 2], s=3, c=colors['reaRed'])\n",
    "ax.set_xlabel('Mpc')\n",
    "ax.set_ylabel('Mpc')\n",
    "ax.set_zlabel('Mpc')\n",
    "ax.grid(True);"
   ]
  },
  {
   "cell_type": "code",
   "execution_count": 8,
   "metadata": {},
   "outputs": [],
   "source": [
    "# Let's combine star clusters and galaxy clusters\n",
    "\n",
    "# A convenience function to transform the data so it can be plotted easier\n",
    "def to_galactic(ra, dec):\n",
    "    sc = SkyCoord(ra=ra * u.hourangle, dec=dec*u.degree)\n",
    "    return [sc.galactic.l.value, sc.galactic.b.value]\n",
    "\n",
    "gal_long = Angle(galaxy_clusters['GLON_2000'] * u.degree)\n",
    "gal_long = gal_long.wrap_at(180 * u.degree)\n",
    "gal_lat = Angle(galaxy_clusters['GLAT_2000'] * u.degree)\n",
    "\n",
    "cs = np.array([\n",
    "    to_galactic(row.RAhour, row.DEdeg)\n",
    "    for row in star_clusters.itertuples()\n",
    "])\n",
    "\n",
    "star_long = Angle(cs[:, 0] * u.degree)\n",
    "star_long = star_long.wrap_at(180 * u.degree)\n",
    "star_lat = Angle(cs[:, 1] * u.degree)"
   ]
  },
  {
   "cell_type": "code",
   "execution_count": 10,
   "metadata": {},
   "outputs": [],
   "source": [
    "# This will pop-up a window with the plot\n",
    "fig = plt.figure(figsize=(12, 9))\n",
    "ax = fig.add_subplot(projection='mollweide')\n",
    "ax.set_title('Galaxy Clusters and Star Clusters')\n",
    "line1 = ax.scatter(gal_long.radian, gal_lat.radian, s=5, c=colors['reaRed'])\n",
    "line2 = ax.scatter(star_long.radian, star_lat.radian, s=3, c=colors['yellow'])\n",
    "ax.set_xticklabels(['210°', '240°', '270°', '300°', '330°',\n",
    "                    '0°', '30°', '60°', '90°', '120°', '150°'])\n",
    "ax.legend([line1, line2], ['Galaxy clusters', 'Star clusters'])\n",
    "ax.grid(True)"
   ]
  }
 ]
}